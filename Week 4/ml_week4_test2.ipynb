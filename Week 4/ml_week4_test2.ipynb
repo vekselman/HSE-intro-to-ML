{
 "cells": [
  {
   "cell_type": "code",
   "execution_count": 1,
   "metadata": {
    "collapsed": true
   },
   "outputs": [],
   "source": [
    "import numpy as np\n",
    "import pandas as pd\n",
    "import scipy as sp\n",
    "import matplotlib.pyplot as plt\n",
    "%matplotlib inline"
   ]
  },
  {
   "cell_type": "code",
   "execution_count": 2,
   "metadata": {
    "collapsed": true
   },
   "outputs": [],
   "source": [
    "from sklearn.decomposition import PCA\n",
    "#поле explained_variance_ratio_ содержит процент дисперсии, который объясняет каждая компонента\n",
    "#Поле components_ содержит информацию о том, какой вклад вносят признаки в компоненты\n",
    "#Transform для приминения обучения"
   ]
  },
  {
   "cell_type": "markdown",
   "metadata": {},
   "source": [
    "Для нахождения коэффициента корреляции Пирсона можно воспользоваться функцией corrcoef из пакета numpy."
   ]
  },
  {
   "cell_type": "code",
   "execution_count": 3,
   "metadata": {
    "collapsed": true
   },
   "outputs": [],
   "source": [
    "import os"
   ]
  },
  {
   "cell_type": "code",
   "execution_count": 4,
   "metadata": {
    "collapsed": true
   },
   "outputs": [],
   "source": [
    "os.chdir('D:\\Leon Projects\\Python\\Ved ML week4')"
   ]
  },
  {
   "cell_type": "code",
   "execution_count": 5,
   "metadata": {
    "collapsed": true
   },
   "outputs": [],
   "source": [
    "prices_data = pd.read_csv('close_prices.csv')"
   ]
  },
  {
   "cell_type": "code",
   "execution_count": 6,
   "metadata": {
    "collapsed": false
   },
   "outputs": [],
   "source": [
    "pca = PCA(n_components=10)"
   ]
  },
  {
   "cell_type": "code",
   "execution_count": 7,
   "metadata": {
    "collapsed": false
   },
   "outputs": [
    {
     "data": {
      "text/plain": [
       "PCA(copy=True, n_components=10, whiten=False)"
      ]
     },
     "execution_count": 7,
     "metadata": {},
     "output_type": "execute_result"
    }
   ],
   "source": [
    "pca.fit(prices_data.iloc[:,1:])"
   ]
  },
  {
   "cell_type": "code",
   "execution_count": 8,
   "metadata": {
    "collapsed": false,
    "scrolled": true
   },
   "outputs": [
    {
     "data": {
      "text/plain": [
       "array([ 0.73897118,  0.11007169,  0.04995088,  0.0287492 ,  0.02215448,\n",
       "        0.01931577,  0.00674853,  0.00614091,  0.00320594,  0.00305611])"
      ]
     },
     "execution_count": 8,
     "metadata": {},
     "output_type": "execute_result"
    }
   ],
   "source": [
    "pca.explained_variance_ratio_"
   ]
  },
  {
   "cell_type": "markdown",
   "metadata": {},
   "source": [
    "## Решение первого задания"
   ]
  },
  {
   "cell_type": "code",
   "execution_count": 9,
   "metadata": {
    "collapsed": false
   },
   "outputs": [
    {
     "name": "stdout",
     "output_type": "stream",
     "text": [
      "1 [ 0.73897118] sum= 0.738971\n",
      "2 [ 0.73897118  0.11007169] sum= 0.849043\n",
      "3 [ 0.73897118  0.11007169  0.04995088] sum= 0.898994\n",
      "4 [ 0.73897118  0.11007169  0.04995088  0.0287492 ] sum= 0.927743\n"
     ]
    }
   ],
   "source": [
    "count = 0\n",
    "for i in range(1,len(pca.explained_variance_ratio_)):\n",
    "    count+=1\n",
    "    print count, pca.explained_variance_ratio_[:i] ,'sum= %f' % sum(pca.explained_variance_ratio_[:i])\n",
    "    if sum(pca.explained_variance_ratio_[:i]) >= 0.9:\n",
    "        break"
   ]
  },
  {
   "cell_type": "code",
   "execution_count": 26,
   "metadata": {
    "collapsed": true
   },
   "outputs": [],
   "source": [
    "ans1 = '%s' % count"
   ]
  },
  {
   "cell_type": "markdown",
   "metadata": {},
   "source": [
    "## Второе задание"
   ]
  },
  {
   "cell_type": "code",
   "execution_count": 10,
   "metadata": {
    "collapsed": true
   },
   "outputs": [],
   "source": [
    "trans_data = pca.transform(prices_data.iloc[:,1:])"
   ]
  },
  {
   "cell_type": "code",
   "execution_count": 11,
   "metadata": {
    "collapsed": false
   },
   "outputs": [],
   "source": [
    "first_comp = trans_data[:,0]"
   ]
  },
  {
   "cell_type": "code",
   "execution_count": 12,
   "metadata": {
    "collapsed": true
   },
   "outputs": [],
   "source": [
    "index = pd.read_csv('djia_index.csv')"
   ]
  },
  {
   "cell_type": "code",
   "execution_count": 13,
   "metadata": {
    "collapsed": true
   },
   "outputs": [
    {
     "data": {
      "text/html": [
       "<div>\n",
       "<table border=\"1\" class=\"dataframe\">\n",
       "  <thead>\n",
       "    <tr style=\"text-align: right;\">\n",
       "      <th></th>\n",
       "      <th>date</th>\n",
       "      <th>^DJI</th>\n",
       "    </tr>\n",
       "  </thead>\n",
       "  <tbody>\n",
       "    <tr>\n",
       "      <th>0</th>\n",
       "      <td>2013-09-23</td>\n",
       "      <td>15401.379883</td>\n",
       "    </tr>\n",
       "    <tr>\n",
       "      <th>1</th>\n",
       "      <td>2013-09-24</td>\n",
       "      <td>15334.589844</td>\n",
       "    </tr>\n",
       "    <tr>\n",
       "      <th>2</th>\n",
       "      <td>2013-09-25</td>\n",
       "      <td>15273.259766</td>\n",
       "    </tr>\n",
       "    <tr>\n",
       "      <th>3</th>\n",
       "      <td>2013-09-26</td>\n",
       "      <td>15328.299805</td>\n",
       "    </tr>\n",
       "    <tr>\n",
       "      <th>4</th>\n",
       "      <td>2013-09-27</td>\n",
       "      <td>15258.240234</td>\n",
       "    </tr>\n",
       "    <tr>\n",
       "      <th>5</th>\n",
       "      <td>2013-09-30</td>\n",
       "      <td>15129.669922</td>\n",
       "    </tr>\n",
       "    <tr>\n",
       "      <th>6</th>\n",
       "      <td>2013-10-01</td>\n",
       "      <td>15191.700195</td>\n",
       "    </tr>\n",
       "    <tr>\n",
       "      <th>7</th>\n",
       "      <td>2013-10-02</td>\n",
       "      <td>15133.139648</td>\n",
       "    </tr>\n",
       "    <tr>\n",
       "      <th>8</th>\n",
       "      <td>2013-10-03</td>\n",
       "      <td>14996.480469</td>\n",
       "    </tr>\n",
       "    <tr>\n",
       "      <th>9</th>\n",
       "      <td>2013-10-04</td>\n",
       "      <td>15072.580078</td>\n",
       "    </tr>\n",
       "    <tr>\n",
       "      <th>10</th>\n",
       "      <td>2013-10-07</td>\n",
       "      <td>14936.240234</td>\n",
       "    </tr>\n",
       "    <tr>\n",
       "      <th>11</th>\n",
       "      <td>2013-10-08</td>\n",
       "      <td>14776.530273</td>\n",
       "    </tr>\n",
       "    <tr>\n",
       "      <th>12</th>\n",
       "      <td>2013-10-09</td>\n",
       "      <td>14802.980469</td>\n",
       "    </tr>\n",
       "    <tr>\n",
       "      <th>13</th>\n",
       "      <td>2013-10-10</td>\n",
       "      <td>15126.070312</td>\n",
       "    </tr>\n",
       "    <tr>\n",
       "      <th>14</th>\n",
       "      <td>2013-10-11</td>\n",
       "      <td>15237.110352</td>\n",
       "    </tr>\n",
       "    <tr>\n",
       "      <th>15</th>\n",
       "      <td>2013-10-14</td>\n",
       "      <td>15301.259766</td>\n",
       "    </tr>\n",
       "    <tr>\n",
       "      <th>16</th>\n",
       "      <td>2013-10-15</td>\n",
       "      <td>15168.009766</td>\n",
       "    </tr>\n",
       "    <tr>\n",
       "      <th>17</th>\n",
       "      <td>2013-10-16</td>\n",
       "      <td>15373.830078</td>\n",
       "    </tr>\n",
       "    <tr>\n",
       "      <th>18</th>\n",
       "      <td>2013-10-17</td>\n",
       "      <td>15371.650391</td>\n",
       "    </tr>\n",
       "    <tr>\n",
       "      <th>19</th>\n",
       "      <td>2013-10-18</td>\n",
       "      <td>15399.650391</td>\n",
       "    </tr>\n",
       "    <tr>\n",
       "      <th>20</th>\n",
       "      <td>2013-10-21</td>\n",
       "      <td>15392.200195</td>\n",
       "    </tr>\n",
       "    <tr>\n",
       "      <th>21</th>\n",
       "      <td>2013-10-22</td>\n",
       "      <td>15467.660156</td>\n",
       "    </tr>\n",
       "    <tr>\n",
       "      <th>22</th>\n",
       "      <td>2013-10-23</td>\n",
       "      <td>15413.330078</td>\n",
       "    </tr>\n",
       "    <tr>\n",
       "      <th>23</th>\n",
       "      <td>2013-10-24</td>\n",
       "      <td>15509.209961</td>\n",
       "    </tr>\n",
       "    <tr>\n",
       "      <th>24</th>\n",
       "      <td>2013-10-25</td>\n",
       "      <td>15570.280273</td>\n",
       "    </tr>\n",
       "    <tr>\n",
       "      <th>25</th>\n",
       "      <td>2013-10-28</td>\n",
       "      <td>15568.929688</td>\n",
       "    </tr>\n",
       "    <tr>\n",
       "      <th>26</th>\n",
       "      <td>2013-10-29</td>\n",
       "      <td>15680.349609</td>\n",
       "    </tr>\n",
       "    <tr>\n",
       "      <th>27</th>\n",
       "      <td>2013-10-30</td>\n",
       "      <td>15618.759766</td>\n",
       "    </tr>\n",
       "    <tr>\n",
       "      <th>28</th>\n",
       "      <td>2013-10-31</td>\n",
       "      <td>15545.750000</td>\n",
       "    </tr>\n",
       "    <tr>\n",
       "      <th>29</th>\n",
       "      <td>2013-11-01</td>\n",
       "      <td>15615.549805</td>\n",
       "    </tr>\n",
       "    <tr>\n",
       "      <th>...</th>\n",
       "      <td>...</td>\n",
       "      <td>...</td>\n",
       "    </tr>\n",
       "    <tr>\n",
       "      <th>344</th>\n",
       "      <td>2015-02-04</td>\n",
       "      <td>17673.019531</td>\n",
       "    </tr>\n",
       "    <tr>\n",
       "      <th>345</th>\n",
       "      <td>2015-02-05</td>\n",
       "      <td>17884.880859</td>\n",
       "    </tr>\n",
       "    <tr>\n",
       "      <th>346</th>\n",
       "      <td>2015-02-06</td>\n",
       "      <td>17824.289062</td>\n",
       "    </tr>\n",
       "    <tr>\n",
       "      <th>347</th>\n",
       "      <td>2015-02-09</td>\n",
       "      <td>17729.210938</td>\n",
       "    </tr>\n",
       "    <tr>\n",
       "      <th>348</th>\n",
       "      <td>2015-02-10</td>\n",
       "      <td>17868.759766</td>\n",
       "    </tr>\n",
       "    <tr>\n",
       "      <th>349</th>\n",
       "      <td>2015-02-11</td>\n",
       "      <td>17862.140625</td>\n",
       "    </tr>\n",
       "    <tr>\n",
       "      <th>350</th>\n",
       "      <td>2015-02-12</td>\n",
       "      <td>17972.380859</td>\n",
       "    </tr>\n",
       "    <tr>\n",
       "      <th>351</th>\n",
       "      <td>2015-02-13</td>\n",
       "      <td>18019.349609</td>\n",
       "    </tr>\n",
       "    <tr>\n",
       "      <th>352</th>\n",
       "      <td>2015-02-17</td>\n",
       "      <td>18047.580078</td>\n",
       "    </tr>\n",
       "    <tr>\n",
       "      <th>353</th>\n",
       "      <td>2015-02-18</td>\n",
       "      <td>18029.849609</td>\n",
       "    </tr>\n",
       "    <tr>\n",
       "      <th>354</th>\n",
       "      <td>2015-02-19</td>\n",
       "      <td>17985.769531</td>\n",
       "    </tr>\n",
       "    <tr>\n",
       "      <th>355</th>\n",
       "      <td>2015-02-20</td>\n",
       "      <td>18140.439453</td>\n",
       "    </tr>\n",
       "    <tr>\n",
       "      <th>356</th>\n",
       "      <td>2015-02-23</td>\n",
       "      <td>18116.839844</td>\n",
       "    </tr>\n",
       "    <tr>\n",
       "      <th>357</th>\n",
       "      <td>2015-02-24</td>\n",
       "      <td>18209.189453</td>\n",
       "    </tr>\n",
       "    <tr>\n",
       "      <th>358</th>\n",
       "      <td>2015-02-25</td>\n",
       "      <td>18224.570312</td>\n",
       "    </tr>\n",
       "    <tr>\n",
       "      <th>359</th>\n",
       "      <td>2015-02-26</td>\n",
       "      <td>18214.419922</td>\n",
       "    </tr>\n",
       "    <tr>\n",
       "      <th>360</th>\n",
       "      <td>2015-02-27</td>\n",
       "      <td>18132.699219</td>\n",
       "    </tr>\n",
       "    <tr>\n",
       "      <th>361</th>\n",
       "      <td>2015-03-02</td>\n",
       "      <td>18288.630859</td>\n",
       "    </tr>\n",
       "    <tr>\n",
       "      <th>362</th>\n",
       "      <td>2015-03-03</td>\n",
       "      <td>18203.369141</td>\n",
       "    </tr>\n",
       "    <tr>\n",
       "      <th>363</th>\n",
       "      <td>2015-03-04</td>\n",
       "      <td>18096.900391</td>\n",
       "    </tr>\n",
       "    <tr>\n",
       "      <th>364</th>\n",
       "      <td>2015-03-05</td>\n",
       "      <td>18135.720703</td>\n",
       "    </tr>\n",
       "    <tr>\n",
       "      <th>365</th>\n",
       "      <td>2015-03-06</td>\n",
       "      <td>17856.779297</td>\n",
       "    </tr>\n",
       "    <tr>\n",
       "      <th>366</th>\n",
       "      <td>2015-03-09</td>\n",
       "      <td>17995.720703</td>\n",
       "    </tr>\n",
       "    <tr>\n",
       "      <th>367</th>\n",
       "      <td>2015-03-10</td>\n",
       "      <td>17662.939453</td>\n",
       "    </tr>\n",
       "    <tr>\n",
       "      <th>368</th>\n",
       "      <td>2015-03-11</td>\n",
       "      <td>17635.390625</td>\n",
       "    </tr>\n",
       "    <tr>\n",
       "      <th>369</th>\n",
       "      <td>2015-03-12</td>\n",
       "      <td>17895.220703</td>\n",
       "    </tr>\n",
       "    <tr>\n",
       "      <th>370</th>\n",
       "      <td>2015-03-13</td>\n",
       "      <td>17749.310547</td>\n",
       "    </tr>\n",
       "    <tr>\n",
       "      <th>371</th>\n",
       "      <td>2015-03-16</td>\n",
       "      <td>17977.419922</td>\n",
       "    </tr>\n",
       "    <tr>\n",
       "      <th>372</th>\n",
       "      <td>2015-03-17</td>\n",
       "      <td>17849.080078</td>\n",
       "    </tr>\n",
       "    <tr>\n",
       "      <th>373</th>\n",
       "      <td>2015-03-18</td>\n",
       "      <td>18076.189453</td>\n",
       "    </tr>\n",
       "  </tbody>\n",
       "</table>\n",
       "<p>374 rows × 2 columns</p>\n",
       "</div>"
      ],
      "text/plain": [
       "           date          ^DJI\n",
       "0    2013-09-23  15401.379883\n",
       "1    2013-09-24  15334.589844\n",
       "2    2013-09-25  15273.259766\n",
       "3    2013-09-26  15328.299805\n",
       "4    2013-09-27  15258.240234\n",
       "5    2013-09-30  15129.669922\n",
       "6    2013-10-01  15191.700195\n",
       "7    2013-10-02  15133.139648\n",
       "8    2013-10-03  14996.480469\n",
       "9    2013-10-04  15072.580078\n",
       "10   2013-10-07  14936.240234\n",
       "11   2013-10-08  14776.530273\n",
       "12   2013-10-09  14802.980469\n",
       "13   2013-10-10  15126.070312\n",
       "14   2013-10-11  15237.110352\n",
       "15   2013-10-14  15301.259766\n",
       "16   2013-10-15  15168.009766\n",
       "17   2013-10-16  15373.830078\n",
       "18   2013-10-17  15371.650391\n",
       "19   2013-10-18  15399.650391\n",
       "20   2013-10-21  15392.200195\n",
       "21   2013-10-22  15467.660156\n",
       "22   2013-10-23  15413.330078\n",
       "23   2013-10-24  15509.209961\n",
       "24   2013-10-25  15570.280273\n",
       "25   2013-10-28  15568.929688\n",
       "26   2013-10-29  15680.349609\n",
       "27   2013-10-30  15618.759766\n",
       "28   2013-10-31  15545.750000\n",
       "29   2013-11-01  15615.549805\n",
       "..          ...           ...\n",
       "344  2015-02-04  17673.019531\n",
       "345  2015-02-05  17884.880859\n",
       "346  2015-02-06  17824.289062\n",
       "347  2015-02-09  17729.210938\n",
       "348  2015-02-10  17868.759766\n",
       "349  2015-02-11  17862.140625\n",
       "350  2015-02-12  17972.380859\n",
       "351  2015-02-13  18019.349609\n",
       "352  2015-02-17  18047.580078\n",
       "353  2015-02-18  18029.849609\n",
       "354  2015-02-19  17985.769531\n",
       "355  2015-02-20  18140.439453\n",
       "356  2015-02-23  18116.839844\n",
       "357  2015-02-24  18209.189453\n",
       "358  2015-02-25  18224.570312\n",
       "359  2015-02-26  18214.419922\n",
       "360  2015-02-27  18132.699219\n",
       "361  2015-03-02  18288.630859\n",
       "362  2015-03-03  18203.369141\n",
       "363  2015-03-04  18096.900391\n",
       "364  2015-03-05  18135.720703\n",
       "365  2015-03-06  17856.779297\n",
       "366  2015-03-09  17995.720703\n",
       "367  2015-03-10  17662.939453\n",
       "368  2015-03-11  17635.390625\n",
       "369  2015-03-12  17895.220703\n",
       "370  2015-03-13  17749.310547\n",
       "371  2015-03-16  17977.419922\n",
       "372  2015-03-17  17849.080078\n",
       "373  2015-03-18  18076.189453\n",
       "\n",
       "[374 rows x 2 columns]"
      ]
     },
     "execution_count": 13,
     "metadata": {},
     "output_type": "execute_result"
    }
   ],
   "source": [
    "index"
   ]
  },
  {
   "cell_type": "code",
   "execution_count": 14,
   "metadata": {
    "collapsed": false
   },
   "outputs": [],
   "source": [
    "corr = np.corrcoef(first_comp,index.iloc[:,1])"
   ]
  },
  {
   "cell_type": "code",
   "execution_count": 40,
   "metadata": {
    "collapsed": false
   },
   "outputs": [
    {
     "data": {
      "text/plain": [
       "'0.91'"
      ]
     },
     "execution_count": 40,
     "metadata": {},
     "output_type": "execute_result"
    }
   ],
   "source": [
    "ans2 = '%0.2f' % corr[1,0]\n",
    "ans2"
   ]
  },
  {
   "cell_type": "markdown",
   "metadata": {},
   "source": [
    "## Третее задание"
   ]
  },
  {
   "cell_type": "code",
   "execution_count": 17,
   "metadata": {
    "collapsed": false
   },
   "outputs": [
    {
     "data": {
      "text/plain": [
       "array([  1.61383840e-02,   1.20644923e-01,  -5.16612711e-02,\n",
       "         5.04842369e-02,  -1.25859933e-01,   1.14089567e-01,\n",
       "         2.33906290e-01,  -6.20513749e-03,   2.51227032e-01,\n",
       "         2.88996029e-01,  -2.64998795e-01,   9.31320168e-02,\n",
       "         9.13948403e-02,   4.69879340e-02,   2.90549417e-02,\n",
       "        -2.61068828e-02,   3.29615584e-01,   7.13897133e-02,\n",
       "         7.62295699e-02,   2.11888868e-01,   2.30922941e-02,\n",
       "         7.77316954e-02,  -7.20594590e-03,   1.89479745e-01,\n",
       "         3.21564017e-01,   5.36834873e-02,   5.79683946e-01,\n",
       "         1.09122230e-04,   8.71614334e-02,  -4.29421420e-02])"
      ]
     },
     "execution_count": 17,
     "metadata": {},
     "output_type": "execute_result"
    }
   ],
   "source": [
    "pca.components_[0]"
   ]
  },
  {
   "cell_type": "code",
   "execution_count": 15,
   "metadata": {
    "collapsed": false
   },
   "outputs": [
    {
     "name": "stdout",
     "output_type": "stream",
     "text": [
      "26 0.579683945747\n"
     ]
    }
   ],
   "source": [
    "max_idx = pca.components_[0].argmax()\n",
    "print max_idx,pca.components_[0,max_idx]"
   ]
  },
  {
   "cell_type": "code",
   "execution_count": 57,
   "metadata": {
    "collapsed": false
   },
   "outputs": [
    {
     "name": "stdout",
     "output_type": "stream",
     "text": [
      "V\n"
     ]
    }
   ],
   "source": [
    "ans3 = prices_data.columns[max_idx+1]\n",
    "print ans3"
   ]
  },
  {
   "cell_type": "code",
   "execution_count": 58,
   "metadata": {
    "collapsed": true
   },
   "outputs": [],
   "source": [
    "txt1 = open('subweek4_2_1.txt','w')\n",
    "txt2 = open('subweek4_2_2.txt','w')\n",
    "txt3 = open('subweek4_2_3.txt','w')"
   ]
  },
  {
   "cell_type": "code",
   "execution_count": 59,
   "metadata": {
    "collapsed": true
   },
   "outputs": [],
   "source": [
    "txt1.write(ans1)\n",
    "txt2.write(ans2)\n",
    "txt3.write(ans3)\n",
    "txt1.close()\n",
    "txt2.close()\n",
    "txt3.close()"
   ]
  }
 ],
 "metadata": {
  "kernelspec": {
   "display_name": "Python [Root]",
   "language": "python",
   "name": "Python [Root]"
  },
  "language_info": {
   "codemirror_mode": {
    "name": "ipython",
    "version": 2
   },
   "file_extension": ".py",
   "mimetype": "text/x-python",
   "name": "python",
   "nbconvert_exporter": "python",
   "pygments_lexer": "ipython2",
   "version": "2.7.12"
  }
 },
 "nbformat": 4,
 "nbformat_minor": 0
}
