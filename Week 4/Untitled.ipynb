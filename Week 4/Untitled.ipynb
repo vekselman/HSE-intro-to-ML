{
 "cells": [
  {
   "cell_type": "code",
   "execution_count": 2,
   "metadata": {
    "collapsed": false
   },
   "outputs": [],
   "source": [
    "\n",
    "import pandas\n",
    "from sklearn.feature_extraction.text import TfidfVectorizer\n",
    "from sklearn.feature_extraction import DictVectorizer\n",
    "from sklearn.linear_model import Ridge\n",
    "from scipy.sparse import hstack\n",
    "\n",
    "import os \n",
    "os.chdir('D:\\Leon Projects\\Python\\Ved ML week4')\n",
    "\n",
    "# 1. Загрузите данные об описаниях вакансий и соответствующих годовых зарплатах из файла salary-train.csv.\n",
    "\n",
    "train = pandas.read_csv('salary-train.csv')\n",
    "\n",
    "# 2. Проведите предобработку:\n",
    "\n",
    "\n",
    "def text_transform(text):\n",
    "    # Приведите тексты к нижнему регистру (text.lower()).\n",
    "    text = text.map(lambda t: t.lower())\n",
    "\n",
    "    # Замените все, кроме букв и цифр, на пробелы — это облегчит дальнейшее разделение текста на слова. Для такой\n",
    "    # замены в строке text подходит следующий вызов: re.sub('[^a-zA-Z0-9]', ' ', text). Также можно воспользоваться\n",
    "    # методом replace у DataFrame, чтобы сразу преобразовать все тексты:\n",
    "    text = text.replace('[^a-zA-Z0-9]', ' ', regex=True)\n",
    "    return text\n",
    "\n",
    "# Примените TfidfVectorizer для преобразования текстов в векторы признаков. Оставьте только те слова,\n",
    "# которые встречаются хотя бы в 5 объектах (параметр min_df у TfidfVectorizer).\n",
    "\n",
    "vec = TfidfVectorizer(min_df=5)\n",
    "X_train_text = vec.fit_transform(text_transform(train['FullDescription']))\n",
    "\n",
    "# Замените пропуски в столбцах LocationNormalized и ContractTime на специальную строку 'nan'.\n",
    "\n",
    "train['LocationNormalized'].fillna('nan', inplace=True)\n",
    "train['ContractTime'].fillna('nan', inplace=True)\n",
    "\n",
    "# Примените DictVectorizer для получения one-hot-кодирования признаков LocationNormalized и ContractTime.\n",
    "\n",
    "enc = DictVectorizer()\n",
    "X_train_cat = enc.fit_transform(train[['LocationNormalized', 'ContractTime']].to_dict('records'))\n",
    "\n",
    "# Объедините все полученные признаки в одну матрицу \"объекты-признаки\". Обратите внимание, что матрицы для текстов и\n",
    "# категориальных признаков являются разреженными. Для объединения их столбцов нужно воспользоваться функцией\n",
    "# scipy.sparse.hstack.\n",
    "\n",
    "X_train = hstack([X_train_text, X_train_cat])\n",
    "\n",
    "# 3. Обучите гребневую регрессию с параметром alpha=1. Целевая переменная записана в столбце SalaryNormalized.\n",
    "\n",
    "y_train = train['SalaryNormalized']\n",
    "model = Ridge(alpha=1)\n",
    "model.fit(X_train, y_train)\n",
    "\n",
    "# 4. Постройте прогнозы для двух примеров из файла salary-test-mini.csv. Значения полученных прогнозов являются\n",
    "# ответом на задание. Укажите их через пробел.\n",
    "\n",
    "test = pandas.read_csv('salary-test-mini.csv')\n",
    "X_test_text = vec.transform(text_transform(test['FullDescription']))\n",
    "X_test_cat = enc.transform(test[['LocationNormalized', 'ContractTime']].to_dict('records'))\n",
    "X_test = hstack([X_test_text, X_test_cat])\n",
    "\n",
    "y_test = model.predict(X_test)"
   ]
  },
  {
   "cell_type": "code",
   "execution_count": 12,
   "metadata": {
    "collapsed": false
   },
   "outputs": [
    {
     "data": {
      "text/plain": [
       "array([ 56559.10272354,  37206.34349702])"
      ]
     },
     "execution_count": 12,
     "metadata": {},
     "output_type": "execute_result"
    }
   ],
   "source": [
    "y_test"
   ]
  }
 ],
 "metadata": {
  "kernelspec": {
   "display_name": "Python [Root]",
   "language": "python",
   "name": "Python [Root]"
  },
  "language_info": {
   "codemirror_mode": {
    "name": "ipython",
    "version": 2
   },
   "file_extension": ".py",
   "mimetype": "text/x-python",
   "name": "python",
   "nbconvert_exporter": "python",
   "pygments_lexer": "ipython2",
   "version": "2.7.12"
  }
 },
 "nbformat": 4,
 "nbformat_minor": 0
}
