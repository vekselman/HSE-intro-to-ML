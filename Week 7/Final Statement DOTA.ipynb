{
 "cells": [
  {
   "cell_type": "code",
   "execution_count": 1,
   "metadata": {
    "collapsed": true
   },
   "outputs": [],
   "source": [
    "import numpy as np\n",
    "import pandas as pd\n",
    "import matplotlib.pyplot as plt\n",
    "%matplotlib inline"
   ]
  },
  {
   "cell_type": "code",
   "execution_count": 2,
   "metadata": {
    "collapsed": true
   },
   "outputs": [],
   "source": [
    "import os"
   ]
  },
  {
   "cell_type": "code",
   "execution_count": 3,
   "metadata": {
    "collapsed": true
   },
   "outputs": [],
   "source": [
    "os.chdir('D:\\Leon Projects\\Python\\Vedenie v ML\\Ved ml_week7\\data')"
   ]
  },
  {
   "cell_type": "markdown",
   "metadata": {},
   "source": [
    "## Загрузка и предобработка данных"
   ]
  },
  {
   "cell_type": "code",
   "execution_count": 4,
   "metadata": {
    "collapsed": true
   },
   "outputs": [],
   "source": [
    "features_data = pd.read_csv('features.csv',index_col='match_id')"
   ]
  },
  {
   "cell_type": "code",
   "execution_count": 5,
   "metadata": {
    "collapsed": false
   },
   "outputs": [
    {
     "data": {
      "text/html": [
       "<div>\n",
       "<table border=\"1\" class=\"dataframe\">\n",
       "  <thead>\n",
       "    <tr style=\"text-align: right;\">\n",
       "      <th></th>\n",
       "      <th>start_time</th>\n",
       "      <th>lobby_type</th>\n",
       "      <th>r1_hero</th>\n",
       "      <th>r1_level</th>\n",
       "      <th>r1_xp</th>\n",
       "      <th>r1_gold</th>\n",
       "      <th>r1_lh</th>\n",
       "      <th>r1_kills</th>\n",
       "      <th>r1_deaths</th>\n",
       "      <th>r1_items</th>\n",
       "      <th>...</th>\n",
       "      <th>dire_boots_count</th>\n",
       "      <th>dire_ward_observer_count</th>\n",
       "      <th>dire_ward_sentry_count</th>\n",
       "      <th>dire_first_ward_time</th>\n",
       "      <th>duration</th>\n",
       "      <th>radiant_win</th>\n",
       "      <th>tower_status_radiant</th>\n",
       "      <th>tower_status_dire</th>\n",
       "      <th>barracks_status_radiant</th>\n",
       "      <th>barracks_status_dire</th>\n",
       "    </tr>\n",
       "    <tr>\n",
       "      <th>match_id</th>\n",
       "      <th></th>\n",
       "      <th></th>\n",
       "      <th></th>\n",
       "      <th></th>\n",
       "      <th></th>\n",
       "      <th></th>\n",
       "      <th></th>\n",
       "      <th></th>\n",
       "      <th></th>\n",
       "      <th></th>\n",
       "      <th></th>\n",
       "      <th></th>\n",
       "      <th></th>\n",
       "      <th></th>\n",
       "      <th></th>\n",
       "      <th></th>\n",
       "      <th></th>\n",
       "      <th></th>\n",
       "      <th></th>\n",
       "      <th></th>\n",
       "      <th></th>\n",
       "    </tr>\n",
       "  </thead>\n",
       "  <tbody>\n",
       "    <tr>\n",
       "      <th>0</th>\n",
       "      <td>1430198770</td>\n",
       "      <td>7</td>\n",
       "      <td>11</td>\n",
       "      <td>5</td>\n",
       "      <td>2098</td>\n",
       "      <td>1489</td>\n",
       "      <td>20</td>\n",
       "      <td>0</td>\n",
       "      <td>0</td>\n",
       "      <td>7</td>\n",
       "      <td>...</td>\n",
       "      <td>4</td>\n",
       "      <td>2</td>\n",
       "      <td>2</td>\n",
       "      <td>-52.0</td>\n",
       "      <td>2874</td>\n",
       "      <td>1</td>\n",
       "      <td>1796</td>\n",
       "      <td>0</td>\n",
       "      <td>51</td>\n",
       "      <td>0</td>\n",
       "    </tr>\n",
       "    <tr>\n",
       "      <th>1</th>\n",
       "      <td>1430220345</td>\n",
       "      <td>0</td>\n",
       "      <td>42</td>\n",
       "      <td>4</td>\n",
       "      <td>1188</td>\n",
       "      <td>1033</td>\n",
       "      <td>9</td>\n",
       "      <td>0</td>\n",
       "      <td>1</td>\n",
       "      <td>12</td>\n",
       "      <td>...</td>\n",
       "      <td>4</td>\n",
       "      <td>3</td>\n",
       "      <td>1</td>\n",
       "      <td>-5.0</td>\n",
       "      <td>2463</td>\n",
       "      <td>1</td>\n",
       "      <td>1974</td>\n",
       "      <td>0</td>\n",
       "      <td>63</td>\n",
       "      <td>1</td>\n",
       "    </tr>\n",
       "    <tr>\n",
       "      <th>2</th>\n",
       "      <td>1430227081</td>\n",
       "      <td>7</td>\n",
       "      <td>33</td>\n",
       "      <td>4</td>\n",
       "      <td>1319</td>\n",
       "      <td>1270</td>\n",
       "      <td>22</td>\n",
       "      <td>0</td>\n",
       "      <td>0</td>\n",
       "      <td>12</td>\n",
       "      <td>...</td>\n",
       "      <td>4</td>\n",
       "      <td>3</td>\n",
       "      <td>1</td>\n",
       "      <td>13.0</td>\n",
       "      <td>2130</td>\n",
       "      <td>0</td>\n",
       "      <td>0</td>\n",
       "      <td>1830</td>\n",
       "      <td>0</td>\n",
       "      <td>63</td>\n",
       "    </tr>\n",
       "    <tr>\n",
       "      <th>3</th>\n",
       "      <td>1430263531</td>\n",
       "      <td>1</td>\n",
       "      <td>29</td>\n",
       "      <td>4</td>\n",
       "      <td>1779</td>\n",
       "      <td>1056</td>\n",
       "      <td>14</td>\n",
       "      <td>0</td>\n",
       "      <td>0</td>\n",
       "      <td>5</td>\n",
       "      <td>...</td>\n",
       "      <td>4</td>\n",
       "      <td>2</td>\n",
       "      <td>0</td>\n",
       "      <td>27.0</td>\n",
       "      <td>1459</td>\n",
       "      <td>0</td>\n",
       "      <td>1920</td>\n",
       "      <td>2047</td>\n",
       "      <td>50</td>\n",
       "      <td>63</td>\n",
       "    </tr>\n",
       "    <tr>\n",
       "      <th>4</th>\n",
       "      <td>1430282290</td>\n",
       "      <td>7</td>\n",
       "      <td>13</td>\n",
       "      <td>4</td>\n",
       "      <td>1431</td>\n",
       "      <td>1090</td>\n",
       "      <td>8</td>\n",
       "      <td>1</td>\n",
       "      <td>0</td>\n",
       "      <td>8</td>\n",
       "      <td>...</td>\n",
       "      <td>3</td>\n",
       "      <td>3</td>\n",
       "      <td>0</td>\n",
       "      <td>-16.0</td>\n",
       "      <td>2449</td>\n",
       "      <td>0</td>\n",
       "      <td>4</td>\n",
       "      <td>1974</td>\n",
       "      <td>3</td>\n",
       "      <td>63</td>\n",
       "    </tr>\n",
       "  </tbody>\n",
       "</table>\n",
       "<p>5 rows × 108 columns</p>\n",
       "</div>"
      ],
      "text/plain": [
       "          start_time  lobby_type  r1_hero  r1_level  r1_xp  r1_gold  r1_lh  \\\n",
       "match_id                                                                     \n",
       "0         1430198770           7       11         5   2098     1489     20   \n",
       "1         1430220345           0       42         4   1188     1033      9   \n",
       "2         1430227081           7       33         4   1319     1270     22   \n",
       "3         1430263531           1       29         4   1779     1056     14   \n",
       "4         1430282290           7       13         4   1431     1090      8   \n",
       "\n",
       "          r1_kills  r1_deaths  r1_items          ...           \\\n",
       "match_id                                         ...            \n",
       "0                0          0         7          ...            \n",
       "1                0          1        12          ...            \n",
       "2                0          0        12          ...            \n",
       "3                0          0         5          ...            \n",
       "4                1          0         8          ...            \n",
       "\n",
       "          dire_boots_count  dire_ward_observer_count  dire_ward_sentry_count  \\\n",
       "match_id                                                                       \n",
       "0                        4                         2                       2   \n",
       "1                        4                         3                       1   \n",
       "2                        4                         3                       1   \n",
       "3                        4                         2                       0   \n",
       "4                        3                         3                       0   \n",
       "\n",
       "          dire_first_ward_time  duration  radiant_win  tower_status_radiant  \\\n",
       "match_id                                                                      \n",
       "0                        -52.0      2874            1                  1796   \n",
       "1                         -5.0      2463            1                  1974   \n",
       "2                         13.0      2130            0                     0   \n",
       "3                         27.0      1459            0                  1920   \n",
       "4                        -16.0      2449            0                     4   \n",
       "\n",
       "          tower_status_dire  barracks_status_radiant  barracks_status_dire  \n",
       "match_id                                                                    \n",
       "0                         0                       51                     0  \n",
       "1                         0                       63                     1  \n",
       "2                      1830                        0                    63  \n",
       "3                      2047                       50                    63  \n",
       "4                      1974                        3                    63  \n",
       "\n",
       "[5 rows x 108 columns]"
      ]
     },
     "execution_count": 5,
     "metadata": {},
     "output_type": "execute_result"
    }
   ],
   "source": [
    "features_data.head()"
   ]
  },
  {
   "cell_type": "code",
   "execution_count": 12,
   "metadata": {
    "collapsed": true
   },
   "outputs": [],
   "source": [
    "#Признаки которые нужно удалить\n",
    "cols_for_del=['duration','radiant_win','tower_status_radiant', 'tower_status_dire',\n",
    "       'barracks_status_radiant', 'barracks_status_dire']"
   ]
  },
  {
   "cell_type": "code",
   "execution_count": 13,
   "metadata": {
    "collapsed": false
   },
   "outputs": [],
   "source": [
    "X = features_data.drop(cols_for_del, axis=1)\n",
    "y = features_data['radiant_win'] # Вектор целевых переменных"
   ]
  },
  {
   "cell_type": "code",
   "execution_count": 12,
   "metadata": {
    "collapsed": false
   },
   "outputs": [
    {
     "data": {
      "text/plain": [
       "first_blood_time               19553\n",
       "first_blood_team               19553\n",
       "first_blood_player1            19553\n",
       "first_blood_player2            43987\n",
       "radiant_bottle_time            15691\n",
       "radiant_courier_time             692\n",
       "radiant_flying_courier_time    27479\n",
       "radiant_first_ward_time         1836\n",
       "dire_bottle_time               16143\n",
       "dire_courier_time                676\n",
       "dire_flying_courier_time       26098\n",
       "dire_first_ward_time            1826\n",
       "dtype: int64"
      ]
     },
     "execution_count": 12,
     "metadata": {},
     "output_type": "execute_result"
    }
   ],
   "source": [
    "#Есть ли пропущенные данные\n",
    "X.shape[0] - X[X.columns[X.count() < X.shape[0]]].count()"
   ]
  },
  {
   "cell_type": "code",
   "execution_count": 26,
   "metadata": {
    "collapsed": true
   },
   "outputs": [],
   "source": [
    "# Замена пропусков на 0\n",
    "X.fillna(0, inplace=True)"
   ]
  },
  {
   "cell_type": "markdown",
   "metadata": {},
   "source": [
    "## Градиентный бустинг"
   ]
  },
  {
   "cell_type": "code",
   "execution_count": 18,
   "metadata": {
    "collapsed": true
   },
   "outputs": [],
   "source": [
    "from sklearn.cross_validation import KFold\n",
    "from sklearn.cross_validation import cross_val_score\n",
    "from sklearn.ensemble import GradientBoostingClassifier"
   ]
  },
  {
   "cell_type": "code",
   "execution_count": 19,
   "metadata": {
    "collapsed": true
   },
   "outputs": [],
   "source": [
    "kf = KFold(X.shape[0],shuffle=True,n_folds=5)"
   ]
  },
  {
   "cell_type": "code",
   "execution_count": 16,
   "metadata": {
    "collapsed": true
   },
   "outputs": [],
   "source": [
    "n_trees = [10,20,30]"
   ]
  },
  {
   "cell_type": "code",
   "execution_count": 20,
   "metadata": {
    "collapsed": true
   },
   "outputs": [],
   "source": [
    "import datetime"
   ]
  },
  {
   "cell_type": "code",
   "execution_count": 25,
   "metadata": {
    "collapsed": false
   },
   "outputs": [
    {
     "name": "stdout",
     "output_type": "stream",
     "text": [
      "Кол-во деревьев - 10 ; время обучения - 0:07:16.104000 ; Оценка - 0.664540295947\n",
      "Кол-во деревьев - 20 ; время обучения - 0:16:35.374000 ; Оценка - 0.681785955896\n",
      "Кол-во деревьев - 30 ; время обучения - 0:20:38.328000 ; Оценка - 0.689285167257\n"
     ]
    }
   ],
   "source": [
    "times =[]\n",
    "crosses=[]\n",
    "for n in n_trees:\n",
    "    estimator = GradientBoostingClassifier(n_estimators=n)\n",
    "    start = datetime.datetime.now()\n",
    "    cross = cross_val_score(estimator,X,y,cv=kf, scoring='roc_auc')\n",
    "    end = datetime.datetime.now()\n",
    "    crosses.append(cross)\n",
    "    times.append(end - start)\n",
    "    print 'Кол-во деревьев - %s ; время обучения - %s ; Оценка - %s' % (n,times[-1],crosses[-1].mean())"
   ]
  },
  {
   "cell_type": "markdown",
   "metadata": {},
   "source": [
    "### Отсчет по градиентному бустингу"
   ]
  },
  {
   "cell_type": "markdown",
   "metadata": {},
   "source": [
    "1. Признаки, которые имели пропуски в данных:\n",
    "        first_blood_time             \n",
    "        first_blood_team               \n",
    "        first_blood_player1            \n",
    "        first_blood_player2            \n",
    "        radiant_bottle_time            \n",
    "        radiant_courier_time             \n",
    "        radiant_flying_courier_time    \n",
    "        radiant_first_ward_time         \n",
    "        dire_bottle_time               \n",
    "        dire_courier_time                \n",
    "        dire_flying_courier_time    \n",
    "        dire_first_ward_time\n",
    "  Отсутствие данных по этим признакам говорит о том, что за первые 5 минут не произошло событие.  \n",
    "  На пример: <b>first_blood_time</b> - не был убит ни один герой;  <b>radiant_bottle_time</b> - светлая сторона не собрала ни одной бутылки \n",
    "<br><br>\n",
    "2. Столбец целевых переменных - <b>radiant_win</b>... 1 - Если светлые победили, иначе 0\n",
    "<br><br>\n",
    "3. При 30 базовых алгоримах, оценка кросс валидации составляет примерно <b>0.689</b>. Время обучение увеличилось по cрасвнению с меньшим кол-вом алгоритмов(в моем случае около 20 минут из-за довольно древнего железа). Это время можно было бы уменьшить используя стахостический метод градиентного бустинга. В таком случае сходимость может достигнуть быстрее, не используя всю выборку.  \n",
    "<br>\n",
    "4. Видно, что при увеличении кол-ва алгоримов, качество улучшается, но не стоит увлекаться, так как на слишком большом кол-ве, градиентный бустинг будет переобучаться  "
   ]
  },
  {
   "cell_type": "markdown",
   "metadata": {},
   "source": [
    "## Логистическая регрессия"
   ]
  },
  {
   "cell_type": "code",
   "execution_count": 14,
   "metadata": {
    "collapsed": false
   },
   "outputs": [],
   "source": [
    "from sklearn.linear_model import LogisticRegression\n",
    "from sklearn.preprocessing import StandardScaler\n",
    "from sklearn.grid_search import GridSearchCV"
   ]
  },
  {
   "cell_type": "code",
   "execution_count": 43,
   "metadata": {
    "collapsed": true
   },
   "outputs": [],
   "source": [
    "scaler = StandardScaler()"
   ]
  },
  {
   "cell_type": "code",
   "execution_count": 15,
   "metadata": {
    "collapsed": false
   },
   "outputs": [],
   "source": [
    "C = {'C' : [0.01, 0.03, 0.1, 0.3, 1, 3]}"
   ]
  },
  {
   "cell_type": "markdown",
   "metadata": {},
   "source": [
    "#### 1 Задание"
   ]
  },
  {
   "cell_type": "code",
   "execution_count": 44,
   "metadata": {
    "collapsed": true
   },
   "outputs": [],
   "source": [
    "X_scaled = scaler.fit_transform(X)"
   ]
  },
  {
   "cell_type": "code",
   "execution_count": 21,
   "metadata": {
    "collapsed": false,
    "scrolled": true
   },
   "outputs": [],
   "source": [
    "log_reg = LogisticRegression(penalty='l2')"
   ]
  },
  {
   "cell_type": "code",
   "execution_count": 22,
   "metadata": {
    "collapsed": false
   },
   "outputs": [],
   "source": [
    "grid_search = GridSearchCV(log_reg,param_grid=C, scoring='roc_auc', cv=kf,verbose=5)"
   ]
  },
  {
   "cell_type": "code",
   "execution_count": 64,
   "metadata": {
    "collapsed": false
   },
   "outputs": [
    {
     "name": "stdout",
     "output_type": "stream",
     "text": [
      "Fitting 5 folds for each of 6 candidates, totalling 30 fits\n",
      "[CV] C=0.01 ..........................................................\n",
      "[CV] ................................. C=0.01, score=0.716929 -  14.4s\n",
      "[CV] C=0.01 ..........................................................\n",
      "[CV] ................................. C=0.01, score=0.715285 -  13.3s\n",
      "[CV] C=0.01 ..........................................................\n",
      "[CV] ................................. C=0.01, score=0.717703 -  13.3s\n",
      "[CV] C=0.01 ..........................................................\n",
      "[CV] ................................. C=0.01, score=0.715575 -  13.2s\n",
      "[CV] C=0.01 ..........................................................\n",
      "[CV] ................................. C=0.01, score=0.716399 -  14.1s\n",
      "[CV] C=0.03 ..........................................................\n",
      "[CV] ................................. C=0.03, score=0.716952 -  14.7s\n",
      "[CV] C=0.03 ..........................................................\n",
      "[CV] ................................. C=0.03, score=0.715267 -  13.5s\n",
      "[CV] C=0.03 ..........................................................\n",
      "[CV] ................................. C=0.03, score=0.717687 -  14.2s\n",
      "[CV] C=0.03 ..........................................................\n",
      "[CV] ................................. C=0.03, score=0.715496 -  14.4s\n",
      "[CV] C=0.03 ..........................................................\n",
      "[CV] ................................. C=0.03, score=0.716377 -  14.4s\n",
      "[CV] C=0.1 ...........................................................\n",
      "[CV] .................................. C=0.1, score=0.716962 -  15.2s\n",
      "[CV] C=0.1 ...........................................................\n",
      "[CV] .................................. C=0.1, score=0.715259 -  14.1s\n",
      "[CV] C=0.1 ...........................................................\n",
      "[CV] .................................. C=0.1, score=0.717676 -  14.2s\n",
      "[CV] C=0.1 ...........................................................\n",
      "[CV] .................................. C=0.1, score=0.715461 -  14.3s\n",
      "[CV] C=0.1 ...........................................................\n",
      "[CV] .................................. C=0.1, score=0.716372 -  14.8s\n",
      "[CV] C=0.3 ...........................................................\n",
      "[CV] .................................. C=0.3, score=0.716964 -  14.8s\n",
      "[CV] C=0.3 ...........................................................\n",
      "[CV] .................................. C=0.3, score=0.715258 -  13.7s\n",
      "[CV] C=0.3 ...........................................................\n"
     ]
    },
    {
     "name": "stderr",
     "output_type": "stream",
     "text": [
      "[Parallel(n_jobs=1)]: Done  17 tasks       | elapsed:  4.0min\n"
     ]
    },
    {
     "name": "stdout",
     "output_type": "stream",
     "text": [
      "[CV] .................................. C=0.3, score=0.717675 -  14.2s\n",
      "[CV] C=0.3 ...........................................................\n",
      "[CV] .................................. C=0.3, score=0.715450 -  14.7s\n",
      "[CV] C=0.3 ...........................................................\n",
      "[CV] .................................. C=0.3, score=0.716368 -  14.8s\n",
      "[CV] C=1 .............................................................\n",
      "[CV] .................................... C=1, score=0.716965 -  15.6s\n",
      "[CV] C=1 .............................................................\n",
      "[CV] .................................... C=1, score=0.715254 -  13.8s\n",
      "[CV] C=1 .............................................................\n",
      "[CV] .................................... C=1, score=0.717674 -  14.4s\n",
      "[CV] C=1 .............................................................\n",
      "[CV] .................................... C=1, score=0.715448 -  14.4s\n",
      "[CV] C=1 .............................................................\n",
      "[CV] .................................... C=1, score=0.716367 -  14.8s\n",
      "[CV] C=3 .............................................................\n",
      "[CV] .................................... C=3, score=0.716964 -  14.7s\n",
      "[CV] C=3 .............................................................\n",
      "[CV] .................................... C=3, score=0.715254 -  13.8s\n",
      "[CV] C=3 .............................................................\n",
      "[CV] .................................... C=3, score=0.717673 -  14.1s\n",
      "[CV] C=3 .............................................................\n",
      "[CV] .................................... C=3, score=0.715446 -  14.3s\n",
      "[CV] C=3 .............................................................\n",
      "[CV] .................................... C=3, score=0.716367 -  15.5s\n"
     ]
    },
    {
     "name": "stderr",
     "output_type": "stream",
     "text": [
      "[Parallel(n_jobs=1)]: Done  30 out of  30 | elapsed:  7.2min finished\n"
     ]
    }
   ],
   "source": [
    "grid_all_features = grid_search.fit(X_scaled,y)"
   ]
  },
  {
   "cell_type": "code",
   "execution_count": 74,
   "metadata": {
    "collapsed": false
   },
   "outputs": [
    {
     "name": "stdout",
     "output_type": "stream",
     "text": [
      "[[0 0 1 0 0 0 0 0 0 0 1 0 1 1 0 1 0 1 0 1]\n",
      " [1 1 0 0 0 0 0 1 0 0 1 0 1 1 0 1 1 1 1 1]]\n"
     ]
    }
   ],
   "source": [
    "# Сравним результаты первых 20 - и предсказаний\n",
    "print np.vstack([grid_all_features.best_estimator_.predict(X_scaled[:20]),y[:20]])"
   ]
  },
  {
   "cell_type": "code",
   "execution_count": 83,
   "metadata": {
    "collapsed": false
   },
   "outputs": [
    {
     "data": {
      "text/plain": [
       "0.71637808097540101"
      ]
     },
     "execution_count": 83,
     "metadata": {},
     "output_type": "execute_result"
    }
   ],
   "source": [
    "grid_all_features.best_score_"
   ]
  },
  {
   "cell_type": "markdown",
   "metadata": {},
   "source": [
    "#### 2 Задание"
   ]
  },
  {
   "cell_type": "code",
   "execution_count": 9,
   "metadata": {
    "collapsed": false
   },
   "outputs": [],
   "source": [
    "cat_features =['lobby_type','r1_hero','r2_hero','r3_hero','r4_hero','r5_hero',\n",
    "                            'd1_hero','d2_hero','d3_hero','d4_hero','d5_hero']"
   ]
  },
  {
   "cell_type": "code",
   "execution_count": 27,
   "metadata": {
    "collapsed": false
   },
   "outputs": [],
   "source": [
    "# Сотавляем только численные признаки\n",
    "X_numeric = X.drop(cat_features, axis=1)"
   ]
  },
  {
   "cell_type": "code",
   "execution_count": 80,
   "metadata": {
    "collapsed": true
   },
   "outputs": [],
   "source": [
    "#Отмасштабируем\n",
    "X_numeric_scaled = StandardScaler().fit_transform(X_numeric)"
   ]
  },
  {
   "cell_type": "code",
   "execution_count": 87,
   "metadata": {
    "collapsed": true
   },
   "outputs": [],
   "source": [
    "grid_num_search = GridSearchCV(log_reg,param_grid=C, scoring='roc_auc', cv=kf,verbose=5)"
   ]
  },
  {
   "cell_type": "code",
   "execution_count": 88,
   "metadata": {
    "collapsed": false,
    "scrolled": false
   },
   "outputs": [
    {
     "name": "stdout",
     "output_type": "stream",
     "text": [
      "Fitting 5 folds for each of 6 candidates, totalling 30 fits\n",
      "[CV] C=0.01 ..........................................................\n",
      "[CV] ................................. C=0.01, score=0.716942 -  12.2s\n",
      "[CV] C=0.01 ..........................................................\n",
      "[CV] ................................. C=0.01, score=0.715495 -  11.9s\n",
      "[CV] C=0.01 ..........................................................\n",
      "[CV] ................................. C=0.01, score=0.717659 -  11.9s\n",
      "[CV] C=0.01 ..........................................................\n",
      "[CV] ................................. C=0.01, score=0.715779 -  12.5s\n",
      "[CV] C=0.01 ..........................................................\n",
      "[CV] ................................. C=0.01, score=0.716456 -  12.5s\n",
      "[CV] C=0.03 ..........................................................\n",
      "[CV] ................................. C=0.03, score=0.716960 -  12.9s\n",
      "[CV] C=0.03 ..........................................................\n",
      "[CV] ................................. C=0.03, score=0.715480 -  12.3s\n",
      "[CV] C=0.03 ..........................................................\n",
      "[CV] ................................. C=0.03, score=0.717634 -  12.2s\n",
      "[CV] C=0.03 ..........................................................\n",
      "[CV] ................................. C=0.03, score=0.715707 -  12.7s\n",
      "[CV] C=0.03 ..........................................................\n",
      "[CV] ................................. C=0.03, score=0.716436 -  13.9s\n",
      "[CV] C=0.1 ...........................................................\n",
      "[CV] .................................. C=0.1, score=0.716968 -  14.2s\n",
      "[CV] C=0.1 ...........................................................\n",
      "[CV] .................................. C=0.1, score=0.715473 -  13.7s\n",
      "[CV] C=0.1 ...........................................................\n",
      "[CV] .................................. C=0.1, score=0.717626 -  12.6s\n",
      "[CV] C=0.1 ...........................................................\n",
      "[CV] .................................. C=0.1, score=0.715679 -  13.0s\n",
      "[CV] C=0.1 ...........................................................\n",
      "[CV] .................................. C=0.1, score=0.716427 -  13.1s\n",
      "[CV] C=0.3 ...........................................................\n",
      "[CV] .................................. C=0.3, score=0.716971 -  13.2s\n",
      "[CV] C=0.3 ...........................................................\n",
      "[CV] .................................. C=0.3, score=0.715472 -  12.9s\n",
      "[CV] C=0.3 ...........................................................\n"
     ]
    },
    {
     "name": "stderr",
     "output_type": "stream",
     "text": [
      "[Parallel(n_jobs=1)]: Done  17 tasks       | elapsed:  3.7min\n"
     ]
    },
    {
     "name": "stdout",
     "output_type": "stream",
     "text": [
      "[CV] .................................. C=0.3, score=0.717622 -  12.2s\n",
      "[CV] C=0.3 ...........................................................\n",
      "[CV] .................................. C=0.3, score=0.715670 -  12.7s\n",
      "[CV] C=0.3 ...........................................................\n",
      "[CV] .................................. C=0.3, score=0.716424 -  13.0s\n",
      "[CV] C=1 .............................................................\n",
      "[CV] .................................... C=1, score=0.716972 -  13.2s\n",
      "[CV] C=1 .............................................................\n",
      "[CV] .................................... C=1, score=0.715471 -  12.8s\n",
      "[CV] C=1 .............................................................\n",
      "[CV] .................................... C=1, score=0.717623 -  12.1s\n",
      "[CV] C=1 .............................................................\n",
      "[CV] .................................... C=1, score=0.715668 -  13.0s\n",
      "[CV] C=1 .............................................................\n",
      "[CV] .................................... C=1, score=0.716421 -  13.1s\n",
      "[CV] C=3 .............................................................\n",
      "[CV] .................................... C=3, score=0.716973 -  13.5s\n",
      "[CV] C=3 .............................................................\n",
      "[CV] .................................... C=3, score=0.715471 -  12.9s\n",
      "[CV] C=3 .............................................................\n",
      "[CV] .................................... C=3, score=0.717622 -  12.2s\n",
      "[CV] C=3 .............................................................\n",
      "[CV] .................................... C=3, score=0.715667 -  12.8s\n",
      "[CV] C=3 .............................................................\n",
      "[CV] .................................... C=3, score=0.716420 -  13.9s\n"
     ]
    },
    {
     "name": "stderr",
     "output_type": "stream",
     "text": [
      "[Parallel(n_jobs=1)]: Done  30 out of  30 | elapsed:  6.5min finished\n"
     ]
    }
   ],
   "source": [
    "grid_numeric = grid_num_search.fit(X_numeric_scaled,y)"
   ]
  },
  {
   "cell_type": "code",
   "execution_count": 89,
   "metadata": {
    "collapsed": false
   },
   "outputs": [
    {
     "data": {
      "text/plain": [
       "0.7164659731972014"
      ]
     },
     "execution_count": 89,
     "metadata": {},
     "output_type": "execute_result"
    }
   ],
   "source": [
    "grid_numeric.best_score_"
   ]
  },
  {
   "cell_type": "markdown",
   "metadata": {},
   "source": [
    "#### 4 Задание"
   ]
  },
  {
   "cell_type": "code",
   "execution_count": 6,
   "metadata": {
    "collapsed": true
   },
   "outputs": [],
   "source": [
    "# Колоныки с героями\n",
    "heroes_columns = []\n",
    "for i in xrange(5):\n",
    "    heroes_columns.append('r%d_hero' % (i + 1))\n",
    "    heroes_columns.append('d%d_hero' % (i + 1))"
   ]
  },
  {
   "cell_type": "code",
   "execution_count": 7,
   "metadata": {
    "collapsed": false
   },
   "outputs": [],
   "source": [
    "# Выдает\n",
    "ids_of_heros = np.unique(features_data[heroes_columns])"
   ]
  },
  {
   "cell_type": "code",
   "execution_count": 102,
   "metadata": {
    "collapsed": false
   },
   "outputs": [
    {
     "name": "stdout",
     "output_type": "stream",
     "text": [
      "112 108\n"
     ]
    }
   ],
   "source": [
    "print ids_of_heros.max(), ids_of_heros.size"
   ]
  },
  {
   "cell_type": "markdown",
   "metadata": {},
   "source": [
    "#### 4 Задание"
   ]
  },
  {
   "cell_type": "code",
   "execution_count": 8,
   "metadata": {
    "collapsed": false
   },
   "outputs": [],
   "source": [
    "X_pick = np.zeros((features_data.shape[0], ids_of_heros.max()))\n",
    "\n",
    "for i, match_id in enumerate(features_data.index):\n",
    "    for p in xrange(5):\n",
    "        X_pick[i, features_data.ix[match_id, 'r%d_hero' % (p+1)]-1] = 1\n",
    "        X_pick[i, features_data.ix[match_id, 'd%d_hero' % (p+1)]-1] = -1"
   ]
  },
  {
   "cell_type": "markdown",
   "metadata": {},
   "source": [
    "#### 5 Задание"
   ]
  },
  {
   "cell_type": "code",
   "execution_count": 28,
   "metadata": {
    "collapsed": false
   },
   "outputs": [],
   "source": [
    "X_num_cat = np.hstack([X_numeric,X_pick])"
   ]
  },
  {
   "cell_type": "code",
   "execution_count": 29,
   "metadata": {
    "collapsed": false
   },
   "outputs": [],
   "source": [
    "X_num_cat_scaled = StandardScaler().fit_transform(X_num_cat)"
   ]
  },
  {
   "cell_type": "code",
   "execution_count": 30,
   "metadata": {
    "collapsed": true
   },
   "outputs": [],
   "source": [
    "grid_search =GridSearchCV(log_reg,param_grid=C, scoring='roc_auc', cv=kf,verbose=5)"
   ]
  },
  {
   "cell_type": "code",
   "execution_count": 31,
   "metadata": {
    "collapsed": false
   },
   "outputs": [
    {
     "name": "stdout",
     "output_type": "stream",
     "text": [
      "Fitting 5 folds for each of 6 candidates, totalling 30 fits\n",
      "[CV] C=0.01 ..........................................................\n",
      "[CV] ................................. C=0.01, score=0.756448 -  31.3s\n",
      "[CV] C=0.01 ..........................................................\n",
      "[CV] ................................. C=0.01, score=0.749836 -  24.2s\n",
      "[CV] C=0.01 ..........................................................\n",
      "[CV] ................................. C=0.01, score=0.753499 -  25.1s\n",
      "[CV] C=0.01 ..........................................................\n",
      "[CV] ................................. C=0.01, score=0.751790 -  25.0s\n",
      "[CV] C=0.01 ..........................................................\n",
      "[CV] ................................. C=0.01, score=0.747576 -  23.5s\n",
      "[CV] C=0.03 ..........................................................\n",
      "[CV] ................................. C=0.03, score=0.756470 -  24.7s\n",
      "[CV] C=0.03 ..........................................................\n",
      "[CV] ................................. C=0.03, score=0.749805 -  25.0s\n",
      "[CV] C=0.03 ..........................................................\n",
      "[CV] ................................. C=0.03, score=0.753411 -  25.9s\n",
      "[CV] C=0.03 ..........................................................\n",
      "[CV] ................................. C=0.03, score=0.751768 -  26.1s\n",
      "[CV] C=0.03 ..........................................................\n",
      "[CV] ................................. C=0.03, score=0.747601 -  25.7s\n",
      "[CV] C=0.1 ...........................................................\n",
      "[CV] .................................. C=0.1, score=0.756475 -  25.5s\n",
      "[CV] C=0.1 ...........................................................\n",
      "[CV] .................................. C=0.1, score=0.749787 -  25.9s\n",
      "[CV] C=0.1 ...........................................................\n",
      "[CV] .................................. C=0.1, score=0.753374 -  26.1s\n",
      "[CV] C=0.1 ...........................................................\n",
      "[CV] .................................. C=0.1, score=0.751754 -  24.8s\n",
      "[CV] C=0.1 ...........................................................\n",
      "[CV] .................................. C=0.1, score=0.747608 -  26.8s\n",
      "[CV] C=0.3 ...........................................................\n",
      "[CV] .................................. C=0.3, score=0.756478 -  25.6s\n",
      "[CV] C=0.3 ...........................................................\n",
      "[CV] .................................. C=0.3, score=0.749783 -  25.3s\n",
      "[CV] C=0.3 ...........................................................\n"
     ]
    },
    {
     "name": "stderr",
     "output_type": "stream",
     "text": [
      "[Parallel(n_jobs=1)]: Done  17 tasks       | elapsed:  7.3min\n"
     ]
    },
    {
     "name": "stdout",
     "output_type": "stream",
     "text": [
      "[CV] .................................. C=0.3, score=0.753365 -  24.5s\n",
      "[CV] C=0.3 ...........................................................\n",
      "[CV] .................................. C=0.3, score=0.751752 -  24.2s\n",
      "[CV] C=0.3 ...........................................................\n",
      "[CV] .................................. C=0.3, score=0.747608 -  25.6s\n",
      "[CV] C=1 .............................................................\n",
      "[CV] .................................... C=1, score=0.756480 -  25.3s\n",
      "[CV] C=1 .............................................................\n",
      "[CV] .................................... C=1, score=0.749781 -  25.3s\n",
      "[CV] C=1 .............................................................\n",
      "[CV] .................................... C=1, score=0.753361 -  24.8s\n",
      "[CV] C=1 .............................................................\n",
      "[CV] .................................... C=1, score=0.751750 -  24.3s\n",
      "[CV] C=1 .............................................................\n",
      "[CV] .................................... C=1, score=0.747606 -  25.7s\n",
      "[CV] C=3 .............................................................\n",
      "[CV] .................................... C=3, score=0.756481 -  25.3s\n",
      "[CV] C=3 .............................................................\n",
      "[CV] .................................... C=3, score=0.749781 -  25.3s\n",
      "[CV] C=3 .............................................................\n",
      "[CV] .................................... C=3, score=0.753359 -  25.2s\n",
      "[CV] C=3 .............................................................\n",
      "[CV] .................................... C=3, score=0.751749 -  24.1s\n",
      "[CV] C=3 .............................................................\n",
      "[CV] .................................... C=3, score=0.747607 -  26.5s\n"
     ]
    },
    {
     "name": "stderr",
     "output_type": "stream",
     "text": [
      "[Parallel(n_jobs=1)]: Done  30 out of  30 | elapsed: 12.8min finished\n"
     ]
    }
   ],
   "source": [
    "grid_num_cat = grid_search.fit(X_num_cat_scaled,y)"
   ]
  },
  {
   "cell_type": "code",
   "execution_count": 131,
   "metadata": {
    "collapsed": false
   },
   "outputs": [
    {
     "data": {
      "text/plain": [
       "0.75175812973604672"
      ]
     },
     "execution_count": 131,
     "metadata": {},
     "output_type": "execute_result"
    }
   ],
   "source": [
    "grid_num_cat.best_score_"
   ]
  },
  {
   "cell_type": "markdown",
   "metadata": {},
   "source": [
    "#### 6 Задание"
   ]
  },
  {
   "cell_type": "code",
   "execution_count": 32,
   "metadata": {
    "collapsed": false
   },
   "outputs": [],
   "source": [
    "features_test = pd.read_csv('features_test.csv',index_col='match_id')"
   ]
  },
  {
   "cell_type": "code",
   "execution_count": 44,
   "metadata": {
    "collapsed": false
   },
   "outputs": [],
   "source": [
    "X_test = features_test.drop(['lobby_type','r1_hero', 'r2_hero',  'r3_hero', 'r4_hero', 'r5_hero', 'd1_hero', 'd2_hero','d3_hero','d4_hero', 'd5_hero'],axis=1)"
   ]
  },
  {
   "cell_type": "code",
   "execution_count": 38,
   "metadata": {
    "collapsed": true
   },
   "outputs": [],
   "source": [
    "X_pick = np.zeros((features_test.shape[0], 112))\n",
    "\n",
    "for i, match_id in enumerate(features_test.index):\n",
    "    for p in xrange(5):\n",
    "        X_pick[i, features_test.ix[match_id, 'r%d_hero' % (p+1)]-1] = 1\n",
    "        X_pick[i, features_test.ix[match_id, 'd%d_hero' % (p+1)]-1] = -1"
   ]
  },
  {
   "cell_type": "code",
   "execution_count": 45,
   "metadata": {
    "collapsed": true
   },
   "outputs": [],
   "source": [
    "X_test.fillna(0,inplace=True)"
   ]
  },
  {
   "cell_type": "code",
   "execution_count": 46,
   "metadata": {
    "collapsed": true
   },
   "outputs": [],
   "source": [
    "X_test = StandardScaler().fit_transform(X_test)"
   ]
  },
  {
   "cell_type": "code",
   "execution_count": 47,
   "metadata": {
    "collapsed": true
   },
   "outputs": [],
   "source": [
    "X_test = np.hstack([X_test,X_pick])"
   ]
  },
  {
   "cell_type": "code",
   "execution_count": 48,
   "metadata": {
    "collapsed": false
   },
   "outputs": [],
   "source": [
    "pred_y = grid_num_cat.best_estimator_.predict_proba(X_test)[:,1]"
   ]
  },
  {
   "cell_type": "code",
   "execution_count": 49,
   "metadata": {
    "collapsed": false
   },
   "outputs": [
    {
     "name": "stdout",
     "output_type": "stream",
     "text": [
      "0.00662927420173 0.995364185517\n"
     ]
    }
   ],
   "source": [
    "print np.min(pred_y), np.max(pred_y)"
   ]
  },
  {
   "cell_type": "markdown",
   "metadata": {},
   "source": [
    "### Отсчет по логистической регрессии"
   ]
  },
  {
   "cell_type": "markdown",
   "metadata": {},
   "source": [
    "1. <b>0.716378</b> - лучшее качество. Видно, что логистическая регрессия обучаеться в разы быстрее, но качество не перезодит за 0.72. Если градиентный бустинг обучить на достаточном кол - ве алгоритмов, то качество будет выше даже на неотмасштабированных данных.\n",
    "<br><br>\n",
    "2. <b>0.716466</b> - качество без категориальных признаков немного улучшелось. Дело в том что линейная классификация не разделяет признаки и категориальные считает как числовые, не учитывая их значимости.\n",
    "<br><br>\n",
    "3. Судя по данным из выборки, количество возможных героев - <b>112</b>. В данной выборке использовалось только - <b>108</b>\n",
    "<br><br>\n",
    "4. <b>0.751758</b> - Качество при использовании мешка слов. Видно, что по сравнению с придедущими значениями, этот метод улучшает модель. Это обусловливается тем, что исользуется вектор категориальных значений\n",
    "<br><br>\n",
    "5. В тестовой выборке использовалась модель логистической регрессии:<br>\n",
    "      мин - <b>0.00662927420173</b>; макс - <b>0.995364185517</b>"
   ]
  }
 ],
 "metadata": {
  "anaconda-cloud": {},
  "kernelspec": {
   "display_name": "Python [Root]",
   "language": "python",
   "name": "Python [Root]"
  },
  "language_info": {
   "codemirror_mode": {
    "name": "ipython",
    "version": 2
   },
   "file_extension": ".py",
   "mimetype": "text/x-python",
   "name": "python",
   "nbconvert_exporter": "python",
   "pygments_lexer": "ipython2",
   "version": "2.7.12"
  }
 },
 "nbformat": 4,
 "nbformat_minor": 0
}
