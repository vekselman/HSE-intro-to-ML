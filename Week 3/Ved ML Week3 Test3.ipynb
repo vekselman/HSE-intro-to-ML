{
 "cells": [
  {
   "cell_type": "code",
   "execution_count": 1,
   "metadata": {
    "collapsed": true
   },
   "outputs": [],
   "source": [
    "import numpy as np\n",
    "import scipy as sp\n",
    "from matplotlib import pyplot as plt\n",
    "import pandas as pd\n",
    "%matplotlib inline"
   ]
  },
  {
   "cell_type": "code",
   "execution_count": 496,
   "metadata": {
    "collapsed": true
   },
   "outputs": [],
   "source": [
    "import os"
   ]
  },
  {
   "cell_type": "code",
   "execution_count": 5,
   "metadata": {
    "collapsed": true
   },
   "outputs": [],
   "source": [
    "data = pd.read_csv('data-logistic.csv',header=None)"
   ]
  },
  {
   "cell_type": "code",
   "execution_count": 399,
   "metadata": {
    "collapsed": false
   },
   "outputs": [],
   "source": [
    "y = np.asarray(data.iloc[:,0])\n",
    "x = np.asarray(data.iloc[:,1:])\n",
    "y = y[:,np.newaxis]"
   ]
  },
  {
   "cell_type": "code",
   "execution_count": 435,
   "metadata": {
    "collapsed": true
   },
   "outputs": [],
   "source": [
    "X = data.iloc[:,1:]\n",
    "Y = data.iloc[:,0]"
   ]
  },
  {
   "cell_type": "code",
   "execution_count": 135,
   "metadata": {
    "collapsed": false
   },
   "outputs": [],
   "source": [
    "C = 10.\n",
    "k = 0.1\n",
    "w = np.zeros(2)"
   ]
  },
  {
   "cell_type": "code",
   "execution_count": 440,
   "metadata": {
    "collapsed": true
   },
   "outputs": [],
   "source": [
    "def grad_l2(x,y,w,k,C):\n",
    "    m = len(y)\n",
    "    s = 1.0 - 1.0/(1.0+np.exp(-y.T*(x * w).sum(axis=1)))\n",
    "    w_new = w + sum((x*y)*(s.T)) / m * k - k * C * w\n",
    "    return w_new"
   ]
  },
  {
   "cell_type": "code",
   "execution_count": 455,
   "metadata": {
    "collapsed": true
   },
   "outputs": [],
   "source": [
    "max_iter = 10000\n",
    "dist = np.power(10.0,-5)"
   ]
  },
  {
   "cell_type": "code",
   "execution_count": 512,
   "metadata": {
    "collapsed": false
   },
   "outputs": [],
   "source": [
    "def iter_grad(x,y,w,k,C,max_iter,dist):\n",
    "    i = 0\n",
    "    w2 = w\n",
    "    while True:\n",
    "        i+=1\n",
    "        new_w_vec = grad_l2(x,y,w2,k,C)\n",
    "        err = np.sqrt(sum((new_w_vec - w2)**2))\n",
    "        if i > max_iter or err <= dist:\n",
    "            break\n",
    "        else:\n",
    "            w2 = new_w_vec\n",
    "    print 'Iter = %s' % i\n",
    "    return new_w_vec"
   ]
  },
  {
   "cell_type": "code",
   "execution_count": 464,
   "metadata": {
    "collapsed": false
   },
   "outputs": [],
   "source": [
    "w_reg = iter_grad(x,y,w,k,C,max_iter,dist)"
   ]
  },
  {
   "cell_type": "code",
   "execution_count": 465,
   "metadata": {
    "collapsed": false
   },
   "outputs": [
    {
     "name": "stdout",
     "output_type": "stream",
     "text": [
      "[ 0.02855875  0.02478014] 8\n"
     ]
    }
   ],
   "source": [
    "print w_reg,i"
   ]
  },
  {
   "cell_type": "code",
   "execution_count": 466,
   "metadata": {
    "collapsed": true
   },
   "outputs": [],
   "source": [
    "w_non_reg = iter_grad(x,y,w,k,0,max_iter,dist)"
   ]
  },
  {
   "cell_type": "code",
   "execution_count": 467,
   "metadata": {
    "collapsed": false
   },
   "outputs": [
    {
     "name": "stdout",
     "output_type": "stream",
     "text": [
      "[ 0.28781162  0.0919833 ] 8\n"
     ]
    }
   ],
   "source": [
    "print w_non_reg,i"
   ]
  },
  {
   "cell_type": "code",
   "execution_count": 493,
   "metadata": {
    "collapsed": false
   },
   "outputs": [],
   "source": [
    "def sigmoid(x,w):\n",
    "    return 1.0/(1.0 + np.exp( -(x*w).sum(axis=1) ))"
   ]
  },
  {
   "cell_type": "code",
   "execution_count": 490,
   "metadata": {
    "collapsed": true
   },
   "outputs": [
    {
     "name": "stdout",
     "output_type": "stream",
     "text": [
      "[ 0.49440255  0.529496    0.4957368   0.52822771  0.52096641  0.50626044\n",
      "  0.53008234  0.50861803  0.48873776  0.51757601  0.50191648  0.50154946\n",
      "  0.49341161  0.50558998  0.52228362  0.50434259  0.4929596   0.5191125\n",
      "  0.52195573  0.53489214  0.50218015  0.38131965  0.48731919  0.49206967\n",
      "  0.51203573  0.50395002  0.53069129  0.54107763  0.49839379  0.5135726\n",
      "  0.4945121   0.50247534  0.54600482  0.53262053  0.5073897   0.51378546\n",
      "  0.53417603  0.52300976  0.50720322  0.52383035  0.51828015  0.49704681\n",
      "  0.51270112  0.49238438  0.50703299  0.51972797  0.54388304  0.49726854\n",
      "  0.50568197  0.51436456  0.51874495  0.52003243  0.50555806  0.53033633\n",
      "  0.48905037  0.50576537  0.50555325  0.53182041  0.50860904  0.53190478\n",
      "  0.52459388  0.51539334  0.52853379  0.53113754  0.50373856  0.52590253\n",
      "  0.5046051   0.31746315  0.50827102  0.53065557  0.51182656  0.50893571\n",
      "  0.54016531  0.49300493  0.4895921   0.49723045  0.52779637  0.51188452\n",
      "  0.53160048  0.51094066  0.53580939  0.48805334  0.52509998  0.52491486\n",
      "  0.51028473  0.54169431  0.51209297  0.50398705  0.505466    0.49419259\n",
      "  0.51290447  0.49292843  0.52568309  0.50581195  0.49214557  0.52391321\n",
      "  0.51261368  0.49923978  0.49348156  0.52066488  0.52748202  0.51623289\n",
      "  0.49529369  0.50557622  0.48666221  0.50751567  0.51856927  0.53593917\n",
      "  0.52326137  0.49713001  0.48826019  0.53404211  0.52594283  0.51972217\n",
      "  0.5148997   0.39313839  0.50599441  0.50108051  0.52970813  0.49391298\n",
      "  0.53402357  0.50358699  0.52393739  0.49277362  0.5325404   0.52541122\n",
      "  0.53785005  0.51303954  0.52468871  0.30866359  0.52651123  0.51452067\n",
      "  0.49539778  0.50162987  0.54321196  0.488474    0.54165212  0.51113034\n",
      "  0.54350816  0.50469213  0.53382236  0.52936625  0.52789474  0.51113027\n",
      "  0.51764619  0.52848547  0.51896231  0.51366213  0.5272887   0.5373611\n",
      "  0.50083726  0.49279272  0.51443224  0.49022477  0.53104778  0.48775333\n",
      "  0.48419575  0.52772716  0.50543195  0.49808911  0.48687743  0.48371985\n",
      "  0.52386725  0.52115083  0.52681928  0.53259819  0.49511943  0.51446465\n",
      "  0.50716617  0.48494706  0.5334962   0.5027807   0.51323583  0.49318538\n",
      "  0.52390694  0.51823961  0.50673172  0.5230015   0.4972823   0.53447902\n",
      "  0.53462882  0.50636939  0.52639449  0.49731474  0.51671462  0.49774497\n",
      "  0.50568832  0.49812898  0.50373251  0.49035512  0.53868526  0.52299439\n",
      "  0.50584171  0.48733167  0.51393913  0.53285803  0.49870701  0.52957243\n",
      "  0.53087315  0.49170669  0.54906999  0.52579482  0.49610092  0.36814354\n",
      "  0.5053723 ]\n"
     ]
    }
   ],
   "source": [
    "sigmoid(x,w_reg)"
   ]
  },
  {
   "cell_type": "code",
   "execution_count": 491,
   "metadata": {
    "collapsed": true
   },
   "outputs": [],
   "source": [
    "from sklearn.metrics import roc_auc_score"
   ]
  },
  {
   "cell_type": "code",
   "execution_count": 494,
   "metadata": {
    "collapsed": false
   },
   "outputs": [],
   "source": [
    "auc = roc_auc_score(y,sigmoid(x,w_non_reg))\n",
    "rauc = roc_auc_score(y,sigmoid(x,w_reg))"
   ]
  },
  {
   "cell_type": "code",
   "execution_count": 495,
   "metadata": {
    "collapsed": false
   },
   "outputs": [
    {
     "name": "stdout",
     "output_type": "stream",
     "text": [
      "0.926857142857 0.936285714286\n"
     ]
    }
   ],
   "source": [
    "print auc, rauc"
   ]
  },
  {
   "cell_type": "code",
   "execution_count": 498,
   "metadata": {
    "collapsed": false
   },
   "outputs": [],
   "source": [
    "ans = str('%0.3f %0.3f' % (auc,rauc))"
   ]
  },
  {
   "cell_type": "code",
   "execution_count": 501,
   "metadata": {
    "collapsed": false
   },
   "outputs": [],
   "source": [
    "os.chdir('D:\\Leon Projects\\Python')"
   ]
  },
  {
   "cell_type": "code",
   "execution_count": 504,
   "metadata": {
    "collapsed": true
   },
   "outputs": [],
   "source": [
    "txt = open('subweek3_3.txt','w')\n",
    "txt.write(ans)\n",
    "txt.close()"
   ]
  },
  {
   "cell_type": "code",
   "execution_count": 517,
   "metadata": {
    "collapsed": false
   },
   "outputs": [
    {
     "name": "stdout",
     "output_type": "stream",
     "text": [
      "Iter = 10001\n",
      "[ nan  nan]\n",
      "[ 0.02855875  0.02478014]\n"
     ]
    }
   ],
   "source": [
    "w_test = iter_grad(x,y,w,C=10,max_iter=10000,k=0.3,dist=dist)\n",
    "print w_test\n",
    "print w_reg"
   ]
  }
 ],
 "metadata": {
  "kernelspec": {
   "display_name": "Python [Root]",
   "language": "python",
   "name": "Python [Root]"
  },
  "language_info": {
   "codemirror_mode": {
    "name": "ipython",
    "version": 2
   },
   "file_extension": ".py",
   "mimetype": "text/x-python",
   "name": "python",
   "nbconvert_exporter": "python",
   "pygments_lexer": "ipython2",
   "version": "2.7.12"
  }
 },
 "nbformat": 4,
 "nbformat_minor": 0
}
