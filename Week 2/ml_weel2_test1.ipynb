{
 "cells": [
  {
   "cell_type": "code",
   "execution_count": 1,
   "metadata": {
    "collapsed": true
   },
   "outputs": [],
   "source": [
    "import numpy as mp\n",
    "import scipy as sp\n",
    "from matplotlib import pyplot as plt\n",
    "from sklearn.neighbors import KNeighborsClassifier"
   ]
  },
  {
   "cell_type": "markdown",
   "metadata": {},
   "source": [
    "KNeighborsClassifier - Классификатор К ближайших соседей"
   ]
  },
  {
   "cell_type": "code",
   "execution_count": 3,
   "metadata": {
    "collapsed": false
   },
   "outputs": [],
   "source": [
    "import pandas as pd\n",
    "%matplotlib inline"
   ]
  },
  {
   "cell_type": "code",
   "execution_count": 5,
   "metadata": {
    "collapsed": true
   },
   "outputs": [],
   "source": [
    "#Генератор разбиения. Раюбивает на обучение и валидацию\n",
    "#Чтоб была хорошая перетасовка нужно задать shuffle=True\n",
    "#Число блоков задается м параметре n_folds\n",
    "from sklearn.cross_validation import KFold"
   ]
  },
  {
   "cell_type": "code",
   "execution_count": 6,
   "metadata": {
    "collapsed": true
   },
   "outputs": [],
   "source": [
    "#Вычисляет качество на всех разбиениях\n",
    "#В estimator - передаеться классификатор\n",
    "#В cv - передаеться генератор разбеения (KFold)\n",
    "from sklearn.cross_validation import cross_val_score"
   ]
  },
  {
   "cell_type": "code",
   "execution_count": 7,
   "metadata": {
    "collapsed": true
   },
   "outputs": [],
   "source": [
    "#Для приведения всех признаков кодному масштабу\n",
    "from sklearn.preprocessing import scale"
   ]
  },
  {
   "cell_type": "code",
   "execution_count": 51,
   "metadata": {
    "collapsed": true
   },
   "outputs": [],
   "source": [
    "wine = pd.read_csv('wine.data.txt', sep=',')"
   ]
  },
  {
   "cell_type": "code",
   "execution_count": 53,
   "metadata": {
    "collapsed": false
   },
   "outputs": [],
   "source": [
    "class_ar = mp.asarray(wine.iloc[:,0]) #Выбираем классы обьектов из 1-й строки"
   ]
  },
  {
   "cell_type": "code",
   "execution_count": 56,
   "metadata": {
    "collapsed": false
   },
   "outputs": [],
   "source": [
    "featch_ar = mp.asarray(wine.iloc[:,1:])#Выбираем признаки с 2 и до конца столбцов"
   ]
  },
  {
   "cell_type": "code",
   "execution_count": 58,
   "metadata": {
    "collapsed": false
   },
   "outputs": [],
   "source": [
    "scaled_data = scale(featch_ar) #Нормируем данные"
   ]
  },
  {
   "cell_type": "code",
   "execution_count": 65,
   "metadata": {
    "collapsed": false
   },
   "outputs": [],
   "source": [
    "n,m = scaled_data.shape #Берем размерность данных n - число обьектов, m - признаков"
   ]
  },
  {
   "cell_type": "code",
   "execution_count": 85,
   "metadata": {
    "collapsed": false
   },
   "outputs": [],
   "source": [
    "gen_split = KFold(n,n_folds=5, shuffle=True, random_state=42)\n",
    "knc = KNeighborsClassifier(n_neighbors=5)\n",
    "acc_ar = cross_val_score(knc, X=featch_ar, y=class_ar, cv=gen_split, scoring=\"accuracy\")"
   ]
  },
  {
   "cell_type": "code",
   "execution_count": 86,
   "metadata": {
    "collapsed": false
   },
   "outputs": [
    {
     "name": "stdout",
     "output_type": "stream",
     "text": [
      "[ 0.66666667  0.63888889  0.8         0.68571429  0.74285714]\n"
     ]
    }
   ],
   "source": [
    "print acc_ar"
   ]
  },
  {
   "cell_type": "code",
   "execution_count": 90,
   "metadata": {
    "collapsed": true
   },
   "outputs": [],
   "source": [
    "scores= []\n",
    "mean_scores = []"
   ]
  },
  {
   "cell_type": "code",
   "execution_count": 91,
   "metadata": {
    "collapsed": false,
    "scrolled": true
   },
   "outputs": [
    {
     "name": "stdout",
     "output_type": "stream",
     "text": [
      "[ 0.69444444  0.63888889  0.82857143  0.71428571  0.8       ]\n",
      "1 0.73524\n",
      "[ 0.69444444  0.66666667  0.74285714  0.57142857  0.65714286]\n",
      "2 0.66651\n",
      "[ 0.66666667  0.66666667  0.85714286  0.62857143  0.77142857]\n",
      "3 0.7181\n",
      "[ 0.61111111  0.61111111  0.77142857  0.57142857  0.68571429]\n",
      "4 0.65016\n",
      "[ 0.66666667  0.63888889  0.8         0.68571429  0.74285714]\n",
      "5 0.70683\n",
      "[ 0.63888889  0.69444444  0.74285714  0.62857143  0.74285714]\n",
      "6 0.68952\n",
      "[ 0.72222222  0.63888889  0.8         0.71428571  0.74285714]\n",
      "7 0.72365\n",
      "[ 0.66666667  0.61111111  0.77142857  0.71428571  0.74285714]\n",
      "8 0.70127\n",
      "[ 0.66666667  0.58333333  0.82857143  0.68571429  0.77142857]\n",
      "9 0.70714\n",
      "[ 0.72222222  0.61111111  0.65714286  0.65714286  0.74285714]\n",
      "10 0.6781\n",
      "[ 0.66666667  0.58333333  0.71428571  0.71428571  0.74285714]\n",
      "11 0.68429\n",
      "[ 0.66666667  0.61111111  0.68571429  0.68571429  0.74285714]\n",
      "12 0.67841\n",
      "[ 0.72222222  0.61111111  0.77142857  0.74285714  0.74285714]\n",
      "13 0.7181\n",
      "[ 0.72222222  0.63888889  0.74285714  0.74285714  0.74285714]\n",
      "14 0.71794\n",
      "[ 0.72222222  0.63888889  0.77142857  0.8         0.74285714]\n",
      "15 0.73508\n",
      "[ 0.72222222  0.63888889  0.8         0.74285714  0.74285714]\n",
      "16 0.72937\n",
      "[ 0.72222222  0.63888889  0.77142857  0.74285714  0.77142857]\n",
      "17 0.72937\n",
      "[ 0.72222222  0.63888889  0.8         0.74285714  0.74285714]\n",
      "18 0.72937\n",
      "[ 0.72222222  0.63888889  0.74285714  0.74285714  0.74285714]\n",
      "19 0.71794\n",
      "[ 0.72222222  0.63888889  0.8         0.74285714  0.74285714]\n",
      "20 0.72937\n",
      "[ 0.69444444  0.63888889  0.74285714  0.74285714  0.74285714]\n",
      "21 0.71238\n",
      "[ 0.69444444  0.63888889  0.74285714  0.74285714  0.74285714]\n",
      "22 0.71238\n",
      "[ 0.69444444  0.63888889  0.74285714  0.74285714  0.74285714]\n",
      "23 0.71238\n",
      "[ 0.72222222  0.61111111  0.77142857  0.74285714  0.74285714]\n",
      "24 0.7181\n",
      "[ 0.72222222  0.63888889  0.77142857  0.74285714  0.77142857]\n",
      "25 0.72937\n",
      "[ 0.72222222  0.61111111  0.77142857  0.74285714  0.77142857]\n",
      "26 0.72381\n",
      "[ 0.72222222  0.63888889  0.77142857  0.74285714  0.77142857]\n",
      "27 0.72937\n",
      "[ 0.72222222  0.66666667  0.77142857  0.74285714  0.74285714]\n",
      "28 0.72921\n",
      "[ 0.69444444  0.66666667  0.77142857  0.74285714  0.74285714]\n",
      "29 0.72365\n",
      "[ 0.69444444  0.66666667  0.77142857  0.71428571  0.74285714]\n",
      "30 0.71794\n",
      "[ 0.69444444  0.66666667  0.77142857  0.74285714  0.74285714]\n",
      "31 0.72365\n",
      "[ 0.69444444  0.66666667  0.77142857  0.74285714  0.71428571]\n",
      "32 0.71794\n",
      "[ 0.69444444  0.66666667  0.77142857  0.74285714  0.71428571]\n",
      "33 0.71794\n",
      "[ 0.69444444  0.63888889  0.77142857  0.71428571  0.71428571]\n",
      "34 0.70667\n",
      "[ 0.69444444  0.63888889  0.77142857  0.74285714  0.71428571]\n",
      "35 0.71238\n",
      "[ 0.69444444  0.63888889  0.74285714  0.71428571  0.71428571]\n",
      "36 0.70095\n",
      "[ 0.69444444  0.61111111  0.74285714  0.77142857  0.71428571]\n",
      "37 0.70683\n",
      "[ 0.69444444  0.61111111  0.74285714  0.74285714  0.71428571]\n",
      "38 0.70111\n",
      "[ 0.69444444  0.61111111  0.74285714  0.77142857  0.74285714]\n",
      "39 0.71254\n",
      "[ 0.69444444  0.61111111  0.74285714  0.77142857  0.71428571]\n",
      "40 0.70683\n",
      "[ 0.69444444  0.61111111  0.74285714  0.77142857  0.74285714]\n",
      "41 0.71254\n",
      "[ 0.69444444  0.61111111  0.74285714  0.77142857  0.74285714]\n",
      "42 0.71254\n",
      "[ 0.69444444  0.61111111  0.77142857  0.74285714  0.74285714]\n",
      "43 0.71254\n",
      "[ 0.69444444  0.61111111  0.74285714  0.74285714  0.71428571]\n",
      "44 0.70111\n",
      "[ 0.69444444  0.61111111  0.71428571  0.77142857  0.71428571]\n",
      "45 0.70111\n",
      "[ 0.69444444  0.61111111  0.74285714  0.77142857  0.71428571]\n",
      "46 0.70683\n",
      "[ 0.69444444  0.61111111  0.68571429  0.77142857  0.71428571]\n",
      "47 0.6954\n",
      "[ 0.69444444  0.63888889  0.71428571  0.74285714  0.71428571]\n",
      "48 0.70095\n",
      "[ 0.69444444  0.63888889  0.68571429  0.74285714  0.71428571]\n",
      "49 0.69524\n",
      "[ 0.69444444  0.63888889  0.71428571  0.74285714  0.71428571]\n",
      "50 0.70095\n"
     ]
    }
   ],
   "source": [
    "for i in range(1,51):\n",
    "    knc = KNeighborsClassifier(n_neighbors=i)\n",
    "    acc_arr = cross_val_score(knc,X=featch_ar,y=class_ar,scoring='accuracy', cv=gen_split)\n",
    "    print acc_arr\n",
    "    print i,round(acc_arr.mean(),5)\n",
    "    scores.append(acc_arr)\n",
    "    mean_scores.append(round(acc_arr.mean(),5))"
   ]
  },
  {
   "cell_type": "code",
   "execution_count": 97,
   "metadata": {
    "collapsed": false
   },
   "outputs": [],
   "source": [
    "import os"
   ]
  },
  {
   "cell_type": "code",
   "execution_count": 103,
   "metadata": {
    "collapsed": false
   },
   "outputs": [],
   "source": [
    "os.chdir('D:\\Leon Projects\\Python')"
   ]
  },
  {
   "cell_type": "code",
   "execution_count": 104,
   "metadata": {
    "collapsed": true
   },
   "outputs": [],
   "source": [
    "m = max(mean_scores)\n",
    "idx = mean_scores.index(m)"
   ]
  },
  {
   "cell_type": "code",
   "execution_count": 113,
   "metadata": {
    "collapsed": false
   },
   "outputs": [],
   "source": [
    "txt = open('sub1_1.txt','w')\n",
    "#txt.write('%s 0.73' % (idx+1,m))\n",
    "txt.write('%s' % (idx+1))\n",
    "txt.close()"
   ]
  },
  {
   "cell_type": "code",
   "execution_count": 114,
   "metadata": {
    "collapsed": true
   },
   "outputs": [],
   "source": [
    "txt = open('sub1_2.txt','w')\n",
    "txt.write('%0.2f' % m)\n",
    "txt.close()"
   ]
  },
  {
   "cell_type": "code",
   "execution_count": 120,
   "metadata": {
    "collapsed": true
   },
   "outputs": [],
   "source": [
    "scores = []\n",
    "mean_scores = []\n",
    "for i in range(1,51):\n",
    "    knc = KNeighborsClassifier(n_neighbors=i)\n",
    "    acc_arr = cross_val_score(knc,X=scaled_data,y=class_ar,scoring='accuracy', cv=gen_split)\n",
    "    scores.append(acc_arr)\n",
    "    mean_scores.append(round(acc_arr.mean(),5))"
   ]
  },
  {
   "cell_type": "code",
   "execution_count": 121,
   "metadata": {
    "collapsed": true
   },
   "outputs": [],
   "source": [
    "m = max(mean_scores)\n",
    "idx = mean_scores.index(m)"
   ]
  },
  {
   "cell_type": "code",
   "execution_count": 122,
   "metadata": {
    "collapsed": true
   },
   "outputs": [],
   "source": [
    "txt = open('sub1_3.txt','w')\n",
    "#txt.write('%s 0.73' % (idx+1,m))\n",
    "txt.write('%s' % (idx+1))\n",
    "txt.close()"
   ]
  },
  {
   "cell_type": "code",
   "execution_count": 119,
   "metadata": {
    "collapsed": true
   },
   "outputs": [],
   "source": [
    "txt = open('sub1_4.txt','w')\n",
    "txt.write('%0.2f' % m)\n",
    "txt.close()"
   ]
  },
  {
   "cell_type": "code",
   "execution_count": null,
   "metadata": {
    "collapsed": true
   },
   "outputs": [],
   "source": []
  },
  {
   "cell_type": "code",
   "execution_count": 124,
   "metadata": {
    "collapsed": false
   },
   "outputs": [
    {
     "data": {
      "text/plain": [
       "[<matplotlib.lines.Line2D at 0x8504e90>]"
      ]
     },
     "execution_count": 124,
     "metadata": {},
     "output_type": "execute_result"
    },
    {
     "data": {
      "image/png": "[encoded data removed]",
      "text/plain": [
       "<matplotlib.figure.Figure at 0x83f4f10>"
      ]
     },
     "metadata": {},
     "output_type": "display_data"
    }
   ],
   "source": [
    "plt.plot(range(1,51),mean_scores)"
   ]
  }
 ],
 "metadata": {
  "kernelspec": {
   "display_name": "Python [Root]",
   "language": "python",
   "name": "Python [Root]"
  },
  "language_info": {
   "codemirror_mode": {
    "name": "ipython",
    "version": 2
   },
   "file_extension": ".py",
   "mimetype": "text/x-python",
   "name": "python",
   "nbconvert_exporter": "python",
   "pygments_lexer": "ipython2",
   "version": "2.7.12"
  }
 },
 "nbformat": 4,
 "nbformat_minor": 0
}
