{
 "cells": [
  {
   "cell_type": "code",
   "execution_count": 1,
   "metadata": {
    "collapsed": true
   },
   "outputs": [],
   "source": [
    "import numpy as np\n",
    "import scipy as sp\n",
    "import pandas as pd\n",
    "from matplotlib import pyplot as plt \n",
    "import os"
   ]
  },
  {
   "cell_type": "code",
   "execution_count": 3,
   "metadata": {
    "collapsed": true
   },
   "outputs": [],
   "source": [
    "import sklearn as skl"
   ]
  },
  {
   "cell_type": "code",
   "execution_count": 14,
   "metadata": {
    "collapsed": true
   },
   "outputs": [],
   "source": [
    "from sklearn.neighbors import KNeighborsRegressor #Регрессор\n",
    "from sklearn.cross_validation import KFold #Генератор разбиения на обуч. и тест\n",
    "from sklearn.cross_validation import cross_val_score #Оценка выюорки и теста"
   ]
  },
  {
   "cell_type": "code",
   "execution_count": 17,
   "metadata": {
    "collapsed": true
   },
   "outputs": [],
   "source": [
    "from sklearn import datasets #Наборы данных \n",
    "from sklearn.preprocessing import scale"
   ]
  },
  {
   "cell_type": "code",
   "execution_count": 5,
   "metadata": {
    "collapsed": true
   },
   "outputs": [],
   "source": [
    "data = datasets.load_boston()"
   ]
  },
  {
   "cell_type": "code",
   "execution_count": 16,
   "metadata": {
    "collapsed": false
   },
   "outputs": [],
   "source": [
    "featch_ar = data['data']\n",
    "target_ar = data['target']"
   ]
  },
  {
   "cell_type": "code",
   "execution_count": 27,
   "metadata": {
    "collapsed": true
   },
   "outputs": [],
   "source": [
    "scaled_ar = scale(featch_ar)\n",
    "scaled_targ = scale(target_ar)"
   ]
  },
  {
   "cell_type": "code",
   "execution_count": 28,
   "metadata": {
    "collapsed": true
   },
   "outputs": [],
   "source": [
    "gen_cv = KFold(n_folds=5, shuffle=True, random_state=42, n= target_ar.size)\n",
    "knr = KNeighborsRegressor(n_neighbors=5,weights='distance')\n",
    "vals = cross_val_score(knr, X=scaled_ar, y=scaled_targ, scoring='mean_squared_error', cv=gen_cv)"
   ]
  },
  {
   "cell_type": "code",
   "execution_count": 44,
   "metadata": {
    "collapsed": false
   },
   "outputs": [],
   "source": [
    "score_sc_tar = []\n",
    "score_re_tar = []\n",
    "for i in np.linspace(1,10,200):\n",
    "    knr = KNeighborsRegressor(n_neighbors=5,weights='distance', p=i)\n",
    "    val_re = cross_val_score(knr, X=scaled_ar, y=target_ar, scoring='mean_squared_error', cv=gen_cv)\n",
    "    val_sc = cross_val_score(knr, X=scaled_ar, y=scaled_targ, scoring='mean_squared_error', cv=gen_cv)\n",
    "    score_sc_tar.append(val_sc.mean())\n",
    "    score_re_tar.append(val_re.mean())"
   ]
  },
  {
   "cell_type": "code",
   "execution_count": 46,
   "metadata": {
    "collapsed": false
   },
   "outputs": [],
   "source": [
    "m_sc = max(score_sc_tar)\n",
    "id_sc = score_sc_tar.index(m_sc)\n",
    "m_re = max(score_re_tar)\n",
    "id_re= score_re_tar.index(m_re)"
   ]
  },
  {
   "cell_type": "code",
   "execution_count": 47,
   "metadata": {
    "collapsed": false
   },
   "outputs": [
    {
     "name": "stdout",
     "output_type": "stream",
     "text": [
      "1 -0.190124293934\n",
      "1 -16.0502085084\n"
     ]
    }
   ],
   "source": [
    "print id_sc+1,m_sc\n",
    "print id_re+1,m_re"
   ]
  },
  {
   "cell_type": "code",
   "execution_count": 49,
   "metadata": {
    "collapsed": false
   },
   "outputs": [],
   "source": [
    "os.chdir('D:\\Leon Projects\\Python')"
   ]
  },
  {
   "cell_type": "code",
   "execution_count": 50,
   "metadata": {
    "collapsed": true
   },
   "outputs": [],
   "source": [
    "txt = open('sub2_2.txt','w')\n",
    "txt.write('1.0')\n",
    "txt.close()"
   ]
  }
 ],
 "metadata": {
  "kernelspec": {
   "display_name": "Python [Root]",
   "language": "python",
   "name": "Python [Root]"
  },
  "language_info": {
   "codemirror_mode": {
    "name": "ipython",
    "version": 2
   },
   "file_extension": ".py",
   "mimetype": "text/x-python",
   "name": "python",
   "nbconvert_exporter": "python",
   "pygments_lexer": "ipython2",
   "version": "2.7.12"
  }
 },
 "nbformat": 4,
 "nbformat_minor": 0
}
