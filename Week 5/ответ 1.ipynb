{
 "cells": [
  {
   "cell_type": "code",
   "execution_count": 1,
   "metadata": {
    "collapsed": true
   },
   "outputs": [],
   "source": [
    "from pandas import read_csv\n",
    "import numpy as np\n",
    "import matplotlib.pyplot as plt\n",
    "from sklearn.cross_validation import train_test_split\n",
    "from sklearn.ensemble import GradientBoostingClassifier\n",
    "from sklearn.metrics import log_loss"
   ]
  },
  {
   "cell_type": "code",
   "execution_count": 2,
   "metadata": {
    "collapsed": true
   },
   "outputs": [],
   "source": [
    "data = read_csv('gbm-data.csv')\n",
    "data_array = data.values"
   ]
  },
  {
   "cell_type": "code",
   "execution_count": 3,
   "metadata": {
    "collapsed": true
   },
   "outputs": [],
   "source": [
    "X = data_array[:, 1:]\n",
    "Y = data_array[:, 0]"
   ]
  },
  {
   "cell_type": "code",
   "execution_count": 4,
   "metadata": {
    "collapsed": true
   },
   "outputs": [],
   "source": [
    "X_train, X_test, Y_train, Y_test = train_test_split(X, Y, test_size = 0.8, random_state = 241)"
   ]
  },
  {
   "cell_type": "code",
   "execution_count": null,
   "metadata": {
    "collapsed": false
   },
   "outputs": [
    {
     "name": "stdout",
     "output_type": "stream",
     "text": [
      "      Iter       Train Loss   Remaining Time \n",
      "         1           1.2613            3.54m\n",
      "         2           1.1715            3.52m\n",
      "         3           1.1009            3.42m\n",
      "         4           1.0529            3.37m\n",
      "         5           1.0130            3.33m\n",
      "         6           0.9740            3.29m\n",
      "         7           0.9475            3.25m\n",
      "         8           0.9197            3.25m\n",
      "         9           0.8979            3.21m\n",
      "        10           0.8730            3.19m\n",
      "        20           0.7207            2.98m\n",
      "        30           0.6055            2.83m\n",
      "        40           0.5244            2.70m\n",
      "        50           0.4501            2.56m\n",
      "        60           0.3908            2.43m\n",
      "        70           0.3372            2.30m\n",
      "        80           0.3009            2.17m\n"
     ]
    }
   ],
   "source": [
    "for lr in [0.2]:#[1, 0.5, 0.3, 0.2, 0.1]:\n",
    "    clf = GradientBoostingClassifier(n_estimators = 250, verbose = True, \n",
    "                                     random_state = 241, learning_rate = lr)\n",
    "    clf.fit(X_train, Y_train)\n",
    "    Y_train_pred = clf.staged_decision_function(X_train)\n",
    "    train_loss = []\n",
    "    \n",
    "    for yti in Y_train_pred:\n",
    "        Y_train_pred_t = 1 / (1 + np.exp(-1 * yti))\n",
    "        train_loss.append(log_loss(Y_train, Y_train_pred_t))\n",
    "        \n",
    "    Y_test_pred = clf.staged_decision_function(X_test)\n",
    "    test_loss = []\n",
    "    \n",
    "    for yti in Y_test_pred:           \n",
    "        Y_test_pred_t = 1 / (1 + np.exp(-1 * yti))\n",
    "        test_loss.append(log_loss(Y_test, Y_test_pred_t))\n",
    "        \n",
    "    idx = 0\n",
    "    min_idx = -1\n",
    "    min_loss = 100500\n",
    "    for ti in test_loss:      \n",
    "        if (min_loss > ti):\n",
    "            min_idx = idx\n",
    "            min_loss = ti\n",
    "        idx += 1\n",
    "        \n",
    "    print min_loss, min_idx\n",
    "    \n",
    "    plt.figure()\n",
    "    plt.plot(test_loss, 'r', linewidth = 2)\n",
    "    plt.plot(train_loss, 'g', linewidth = 2)\n",
    "    plt.legend(['test', 'train'])\n",
    "    plt.show() "
   ]
  }
 ],
 "metadata": {
  "kernelspec": {
   "display_name": "Python [Root]",
   "language": "python",
   "name": "Python [Root]"
  },
  "language_info": {
   "codemirror_mode": {
    "name": "ipython",
    "version": 2
   },
   "file_extension": ".py",
   "mimetype": "text/x-python",
   "name": "python",
   "nbconvert_exporter": "python",
   "pygments_lexer": "ipython2",
   "version": "2.7.12"
  }
 },
 "nbformat": 4,
 "nbformat_minor": 0
}
