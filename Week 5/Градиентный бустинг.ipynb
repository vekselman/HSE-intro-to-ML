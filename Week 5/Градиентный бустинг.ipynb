{
 "cells": [
  {
   "cell_type": "code",
   "execution_count": 1,
   "metadata": {
    "collapsed": true
   },
   "outputs": [],
   "source": [
    "import numpy as np\n",
    "import scipy as sp\n",
    "import pandas as pd\n",
    "import matplotlib.pyplot as plt\n",
    "%matplotlib inline"
   ]
  },
  {
   "cell_type": "code",
   "execution_count": 54,
   "metadata": {
    "collapsed": true
   },
   "outputs": [],
   "source": [
    "import os"
   ]
  },
  {
   "cell_type": "code",
   "execution_count": 56,
   "metadata": {
    "collapsed": false
   },
   "outputs": [],
   "source": [
    "os.chdir('D:\\Leon Projects\\Python\\Vedenie v ML\\Ved ml_week5')"
   ]
  },
  {
   "cell_type": "code",
   "execution_count": 2,
   "metadata": {
    "collapsed": true
   },
   "outputs": [],
   "source": [
    "from sklearn.ensemble import GradientBoostingClassifier,GradientBoostingRegressor\n",
    "# Градиентный бустер для класс. и негрессии\n",
    "# n_estimators, learning_rate поля для установки гиперпараметор\n",
    "# Verbose - если надо, для отслежевания обучения\n",
    "# staged_decision_function - функция высчитывающая качемтво композиции на каждойитерации "
   ]
  },
  {
   "cell_type": "code",
   "execution_count": 3,
   "metadata": {
    "collapsed": true
   },
   "outputs": [],
   "source": [
    "from sklearn.cross_validation import train_test_split"
   ]
  },
  {
   "cell_type": "code",
   "execution_count": 4,
   "metadata": {
    "collapsed": true
   },
   "outputs": [],
   "source": [
    "from sklearn.metrics import log_loss"
   ]
  },
  {
   "cell_type": "code",
   "execution_count": 5,
   "metadata": {
    "collapsed": false
   },
   "outputs": [],
   "source": [
    "data = pd.read_csv('gbm-data.csv')"
   ]
  },
  {
   "cell_type": "code",
   "execution_count": 10,
   "metadata": {
    "collapsed": false
   },
   "outputs": [
    {
     "data": {
      "text/plain": [
       "Index([u'Activity', u'D1', u'D2', u'D3', u'D4', u'D5', u'D6', u'D7', u'D8',\n",
       "       u'D9',\n",
       "       ...\n",
       "       u'D1767', u'D1768', u'D1769', u'D1770', u'D1771', u'D1772', u'D1773',\n",
       "       u'D1774', u'D1775', u'D1776'],\n",
       "      dtype='object', length=1777)"
      ]
     },
     "execution_count": 10,
     "metadata": {},
     "output_type": "execute_result"
    }
   ],
   "source": [
    "data.columns[data.mean() > 1]"
   ]
  },
  {
   "cell_type": "code",
   "execution_count": 6,
   "metadata": {
    "collapsed": false
   },
   "outputs": [],
   "source": [
    "np_data = data.values"
   ]
  },
  {
   "cell_type": "code",
   "execution_count": 7,
   "metadata": {
    "collapsed": false
   },
   "outputs": [],
   "source": [
    "y = np_data[:,0]"
   ]
  },
  {
   "cell_type": "code",
   "execution_count": 8,
   "metadata": {
    "collapsed": true
   },
   "outputs": [],
   "source": [
    "x = np_data[:,1:]"
   ]
  },
  {
   "cell_type": "code",
   "execution_count": 9,
   "metadata": {
    "collapsed": true
   },
   "outputs": [],
   "source": [
    "x_train,x_test,y_train,y_test = train_test_split(x,y,test_size=0.8, random_state=241)"
   ]
  },
  {
   "cell_type": "code",
   "execution_count": 10,
   "metadata": {
    "collapsed": true
   },
   "outputs": [],
   "source": [
    "learning_rate = [1, 0.5, 0.3, 0.2, 0.1]"
   ]
  },
  {
   "cell_type": "code",
   "execution_count": 18,
   "metadata": {
    "collapsed": true
   },
   "outputs": [],
   "source": [
    "def sigmoid(z):\n",
    "    return 1.0/(1.0 + np.exp(-z))"
   ]
  },
  {
   "cell_type": "code",
   "execution_count": 43,
   "metadata": {
    "collapsed": true
   },
   "outputs": [
    {
     "name": "stdout",
     "output_type": "stream",
     "text": [
      "      Iter       Train Loss   Remaining Time \n",
      "         1           1.0190            3.26m\n",
      "         2           0.9192            3.22m\n",
      "         3           0.8272            3.22m\n",
      "         4           0.7834            3.20m\n",
      "         5           0.7109            3.19m\n",
      "         6           0.6368            3.23m\n",
      "         7           0.5797            3.21m\n",
      "         8           0.5610            3.18m\n",
      "         9           0.5185            3.17m\n",
      "        10           0.4984            3.15m\n",
      "        20           0.1999            2.96m\n",
      "        30           0.1313            2.80m\n",
      "        40           0.0790            2.67m\n",
      "        50           0.0511            2.54m\n",
      "        60           0.0352            2.41m\n",
      "        70           0.0245            2.28m\n",
      "        80           0.0162            2.16m\n",
      "        90           0.0114            2.03m\n",
      "       100           0.0077            1.90m\n",
      "       200           0.0004           34.35s\n",
      "      Iter       Train Loss   Remaining Time \n",
      "         1           1.1255            3.33m\n",
      "         2           1.0035            3.43m\n",
      "         3           0.9386            3.54m\n",
      "         4           0.8844            3.50m\n",
      "         5           0.8381            3.44m\n",
      "         6           0.7995            3.42m\n",
      "         7           0.7559            3.42m\n",
      "         8           0.7205            3.40m\n",
      "         9           0.6958            3.37m\n",
      "        10           0.6725            3.37m\n",
      "        20           0.4672            3.12m\n",
      "        30           0.3179            2.92m\n",
      "        40           0.2274            2.76m\n",
      "        50           0.1774            2.61m\n",
      "        60           0.1394            2.47m\n",
      "        70           0.1050            2.33m\n",
      "        80           0.0805            2.20m\n",
      "        90           0.0650            2.06m\n",
      "       100           0.0511            1.93m\n",
      "       200           0.0058           38.90s\n",
      "      Iter       Train Loss   Remaining Time \n",
      "         1           1.2095            3.38m\n",
      "         2           1.1006            3.32m\n",
      "         3           1.0240            3.29m\n",
      "         4           0.9729            3.26m\n",
      "         5           0.9387            3.22m\n",
      "         6           0.8948            3.21m\n",
      "         7           0.8621            3.19m\n",
      "         8           0.8360            3.18m\n",
      "         9           0.8171            3.16m\n",
      "        10           0.7883            3.14m\n",
      "        20           0.6164            2.97m\n",
      "        30           0.4933            2.82m\n",
      "        40           0.4248            2.68m\n",
      "        50           0.3345            2.55m\n",
      "        60           0.2760            2.42m\n",
      "        70           0.2263            2.29m\n",
      "        80           0.1971            2.16m\n",
      "        90           0.1693            2.03m\n",
      "       100           0.1388            1.91m\n",
      "       200           0.0294           38.00s\n",
      "      Iter       Train Loss   Remaining Time \n",
      "         1           1.2613            3.29m\n",
      "         2           1.1715            3.26m\n",
      "         3           1.1009            3.26m\n",
      "         4           1.0529            3.25m\n",
      "         5           1.0130            3.23m\n",
      "         6           0.9740            3.22m\n",
      "         7           0.9475            3.18m\n",
      "         8           0.9197            3.17m\n",
      "         9           0.8979            3.15m\n",
      "        10           0.8730            3.14m\n",
      "        20           0.7207            2.96m\n",
      "        30           0.6055            2.82m\n",
      "        40           0.5244            2.68m\n",
      "        50           0.4501            2.55m\n",
      "        60           0.3908            2.42m\n",
      "        70           0.3372            2.29m\n",
      "        80           0.3009            2.16m\n",
      "        90           0.2603            2.03m\n",
      "       100           0.2327            1.92m\n",
      "       200           0.0835           38.19s\n",
      "      Iter       Train Loss   Remaining Time \n",
      "         1           1.3199            3.32m\n",
      "         2           1.2645            3.43m\n",
      "         3           1.2170            3.36m\n",
      "         4           1.1775            3.33m\n",
      "         5           1.1404            3.30m\n",
      "         6           1.1106            3.28m\n",
      "         7           1.0844            3.27m\n",
      "         8           1.0617            3.24m\n",
      "         9           1.0411            3.22m\n",
      "        10           1.0223            3.26m\n",
      "        20           0.8864            3.26m\n",
      "        30           0.7844            3.02m\n",
      "        40           0.7176            2.83m\n",
      "        50           0.6590            2.66m\n",
      "        60           0.6120            2.52m\n",
      "        70           0.5599            2.42m\n",
      "        80           0.5242            2.28m\n",
      "        90           0.4829            2.13m\n",
      "       100           0.4473            1.99m\n",
      "       200           0.2379           38.99s\n"
     ]
    }
   ],
   "source": [
    "train_forest_loss=[]\n",
    "test_forest_loss=[]\n",
    "for l in learning_rate:\n",
    "    gbc = GradientBoostingClassifier(n_estimators=250,\n",
    "                                     verbose=True,random_state=241,learning_rate=l)\n",
    "    gbc.fit(x_train,y_train)\n",
    "    train_loss=[]\n",
    "    test_loss=[]\n",
    "    for store in gbc.staged_decision_function(x_train):\n",
    "        train_loss.append(log_loss(y_train,sigmoid(store)))\n",
    "        #st = store\n",
    "        #break\n",
    "    for store in gbc.staged_decision_function(x_test):\n",
    "        test_loss.append(log_loss(y_test,sigmoid(store)))\n",
    "    train_forest_loss.append(train_loss)\n",
    "    test_forest_loss.append(test_loss)"
   ]
  },
  {
   "cell_type": "code",
   "execution_count": 46,
   "metadata": {
    "collapsed": false
   },
   "outputs": [
    {
     "data": {
      "text/plain": [
       "(5, 250)"
      ]
     },
     "execution_count": 46,
     "metadata": {},
     "output_type": "execute_result"
    }
   ],
   "source": [
    "np.asarray(test_forest_loss).shape"
   ]
  },
  {
   "cell_type": "code",
   "execution_count": 49,
   "metadata": {
    "collapsed": true
   },
   "outputs": [
    {
     "data": {
      "image/png": "[encoded data removed]",
      "text/plain": [
       "<matplotlib.figure.Figure at 0x994b6d0>"
      ]
     },
     "metadata": {},
     "output_type": "display_data"
    },
    {
     "data": {
      "image/png": "[encoded data removed]",
      "text/plain": [
       "<matplotlib.figure.Figure at 0xd4b7ed0>"
      ]
     },
     "metadata": {},
     "output_type": "display_data"
    },
    {
     "data": {
      "image/png": "[encoded data removed]",
      "text/plain": [
       "<matplotlib.figure.Figure at 0xd331910>"
      ]
     },
     "metadata": {},
     "output_type": "display_data"
    },
    {
     "data": {
      "image/png": "[encoded data removed]",
      "text/plain": [
       "<matplotlib.figure.Figure at 0xda85210>"
      ]
     },
     "metadata": {},
     "output_type": "display_data"
    },
    {
     "data": {
      "image/png": "[encoded data removed]",
      "text/plain": [
       "<matplotlib.figure.Figure at 0x9a33970>"
      ]
     },
     "metadata": {},
     "output_type": "display_data"
    }
   ],
   "source": [
    "lens = len(train_forest_loss[0])\n",
    "for i in range(0,len(learning_rate)):\n",
    "    plt.plot(range(1,lens+1),train_forest_loss[i],'b')\n",
    "    plt.plot(range(1,lens+1),test_forest_loss[i],'r')\n",
    "    plt.legend(['train', 'test'])\n",
    "    plt.title('Learning rate %s' % learning_rate[i])\n",
    "    plt.show()"
   ]
  },
  {
   "cell_type": "code",
   "execution_count": 58,
   "metadata": {
    "collapsed": false
   },
   "outputs": [
    {
     "name": "stdout",
     "output_type": "stream",
     "text": [
      "36 0.530581065531\n"
     ]
    }
   ],
   "source": [
    "for i in range(0,len(learning_rate)):\n",
    "    if learning_rate[i] == 0.2:\n",
    "        rate = np.asarray(test_forest_loss[i])\n",
    "        val_ans = rate.min()\n",
    "        idx_ans = rate.argmin()\n",
    "        print idx_ans, val_ans"
   ]
  },
  {
   "cell_type": "code",
   "execution_count": 61,
   "metadata": {
    "collapsed": false
   },
   "outputs": [
    {
     "data": {
      "text/plain": [
       "GradientBoostingClassifier(init=None, learning_rate=0.1, loss='deviance',\n",
       "              max_depth=3, max_features=None, max_leaf_nodes=None,\n",
       "              min_samples_leaf=1, min_samples_split=2,\n",
       "              min_weight_fraction_leaf=0.0, n_estimators=36,\n",
       "              presort='auto', random_state=241, subsample=1.0, verbose=0,\n",
       "              warm_start=False)"
      ]
     },
     "execution_count": 61,
     "metadata": {},
     "output_type": "execute_result"
    }
   ],
   "source": [
    "mod = GradientBoostingClassifier(n_estimators=idx_ans,random_state=241)\n",
    "mod.fit(x_train,y_train)"
   ]
  },
  {
   "cell_type": "code",
   "execution_count": 66,
   "metadata": {
    "collapsed": false
   },
   "outputs": [],
   "source": [
    "pred_ans = log_loss(y_test,mod.predict_proba(x_test)[:,1])"
   ]
  },
  {
   "cell_type": "code",
   "execution_count": 57,
   "metadata": {
    "collapsed": true
   },
   "outputs": [],
   "source": [
    "txt= open('subweek5_2_1.txt','w')\n",
    "txt.write('overfitting')\n",
    "txt.close()"
   ]
  },
  {
   "cell_type": "code",
   "execution_count": 59,
   "metadata": {
    "collapsed": true
   },
   "outputs": [],
   "source": [
    "txt= open('subweek5_2_2.txt','w')\n",
    "txt.write('%.2f %s' % (val_ans,idx_ans))\n",
    "txt.close()"
   ]
  },
  {
   "cell_type": "code",
   "execution_count": 67,
   "metadata": {
    "collapsed": true
   },
   "outputs": [],
   "source": [
    "txt= open('subweek5_2_3.txt','w')\n",
    "txt.write('%.2f' % (pred_ans))\n",
    "txt.close()"
   ]
  }
 ],
 "metadata": {
  "kernelspec": {
   "display_name": "Python [Root]",
   "language": "python",
   "name": "Python [Root]"
  },
  "language_info": {
   "codemirror_mode": {
    "name": "ipython",
    "version": 2
   },
   "file_extension": ".py",
   "mimetype": "text/x-python",
   "name": "python",
   "nbconvert_exporter": "python",
   "pygments_lexer": "ipython2",
   "version": "2.7.12"
  }
 },
 "nbformat": 4,
 "nbformat_minor": 0
}
